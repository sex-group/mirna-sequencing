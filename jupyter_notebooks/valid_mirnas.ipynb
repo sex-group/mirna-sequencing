{
 "cells": [
  {
   "cell_type": "markdown",
   "metadata": {},
   "source": [
    "# miRNA-Seq\n",
    "\n",
    "(2019.04.02)\n",
    "\n",
    "## Only valid miRNAs\n",
    "\n",
    "On the paper [Evolutionary history of plant microRNAs](https://doi.org/10.1016/j.tplants.2013.11.008), miRBase is scan for valid miRNAs. For a miRNA to be considered valid...\n",
    "\n",
    "* miRNA sequence must have high complementarity to opposing arm (>= 15 nt)\n",
    "* It should be observed an precision on 5' cleavage\n",
    "* Little heterogeneity in the sequence matching to the miRNA precursor. If not, this is a siRNA, not a miRNA.\n",
    "* The miRNA* should be present\n",
    "\n",
    "The list of valid *Vitis vinifera* miRNAs is provided in the addtional files. Here, I will scan my miRNAs list, for the valid miRNAs, and remove the non validated ones."
   ]
  },
  {
   "cell_type": "code",
   "execution_count": null,
   "metadata": {},
   "outputs": [],
   "source": [
    "import pandas"
   ]
  },
  {
   "cell_type": "markdown",
   "metadata": {},
   "source": [
    "### Importing list of valid miRNAs\n",
    "\n",
    "Note: This list does not contain only valid miRNAs. It contains the indication if the miRNA is valid or not! miRNA should pass on miRNA* or Structure to be considered valid."
   ]
  },
  {
   "cell_type": "code",
   "execution_count": null,
   "metadata": {},
   "outputs": [],
   "source": [
    "valid_mirnas = pandas.read_csv('valid_mirnas.tsv',\n",
    "                               sep = '\\t'\n",
    "                              )\n",
    "\n",
    "valid_mirnas.head()"
   ]
  },
  {
   "cell_type": "code",
   "execution_count": null,
   "metadata": {},
   "outputs": [],
   "source": [
    "valid_mirnas.shape"
   ]
  },
  {
   "cell_type": "code",
   "execution_count": null,
   "metadata": {},
   "outputs": [],
   "source": [
    "valid_mirnas_pass = valid_mirnas[(valid_mirnas['miRNA*'] == '✓')\n",
    "                                 | (valid_mirnas['Structure'] == '✓')\n",
    "                                ]\n",
    "valid_mirnas_pass.shape"
   ]
  },
  {
   "cell_type": "markdown",
   "metadata": {},
   "source": [
    "Only 4 miRNAs should be removed from our lists... To be honest, may be we do nor even got those."
   ]
  },
  {
   "cell_type": "code",
   "execution_count": null,
   "metadata": {},
   "outputs": [],
   "source": [
    "valid_mirnas_pass_list = valid_mirnas_pass['ID'].tolist()\n",
    "valid_mirnas_all_list = valid_mirnas['ID'].tolist()"
   ]
  },
  {
   "cell_type": "markdown",
   "metadata": {},
   "source": [
    "### Importing miRNAs from miRBase\n",
    "\n",
    "#### Hairpins"
   ]
  },
  {
   "cell_type": "code",
   "execution_count": null,
   "metadata": {},
   "outputs": [],
   "source": [
    "mirbase_hairpins_counts = pandas.read_csv('../2019_miRNA_sequencing/mirbase_hairpins_counts.tsv',\n",
    "                                          sep = '\\t'\n",
    "                                         )\n",
    "\n",
    "mirbase_hairpins_counts.head()"
   ]
  },
  {
   "cell_type": "code",
   "execution_count": null,
   "metadata": {},
   "outputs": [],
   "source": [
    "mirbase_hairpins_counts.shape"
   ]
  },
  {
   "cell_type": "markdown",
   "metadata": {},
   "source": [
    "Below is the list of miRNAs that were not considered valid. This does not mean that the miRNAs are invalid, only that the miRNAs were not considered valid (but they may have not even be tested)"
   ]
  },
  {
   "cell_type": "code",
   "execution_count": null,
   "metadata": {},
   "outputs": [],
   "source": [
    "mirbase_hairpins_counts[~mirbase_hairpins_counts['miRNA'].isin(valid_mirnas_pass_list)]"
   ]
  },
  {
   "cell_type": "code",
   "execution_count": null,
   "metadata": {},
   "outputs": [],
   "source": [
    "mirbase_hairpins_counts_non_valid = mirbase_hairpins_counts[~mirbase_hairpins_counts['miRNA'].isin(valid_mirnas_pass_list)]['miRNA'].tolist()\n",
    "\n",
    "[mirna for mirna in mirbase_hairpins_counts_non_valid if mirna in valid_mirnas_all_list]"
   ]
  },
  {
   "cell_type": "markdown",
   "metadata": {},
   "source": [
    "The miRNAs listed above, is the list of miRNAs that are present in the analysis provided on the paper and on our results, but did not pass. The other miRNAs present on the table, were just not checked along the paper.\n",
    "\n",
    "Instead of checkig the valid miRNAs, as this will not consider the miRNAs that were not processed on the paper, we should remove directly the non valid miRNAs."
   ]
  },
  {
   "cell_type": "code",
   "execution_count": null,
   "metadata": {},
   "outputs": [],
   "source": [
    "valid_mirnas_nopass = valid_mirnas[(valid_mirnas['miRNA*'] == '✗')\n",
    "                                 & (valid_mirnas['Structure'] == '✗')\n",
    "                                ]\n",
    "valid_mirnas_nopass.shape"
   ]
  },
  {
   "cell_type": "code",
   "execution_count": null,
   "metadata": {},
   "outputs": [],
   "source": [
    "valid_mirnas_nopass_list = valid_mirnas_nopass['ID'].tolist()"
   ]
  },
  {
   "cell_type": "code",
   "execution_count": null,
   "metadata": {},
   "outputs": [],
   "source": [
    "mirbase_hairpins_counts_pass = mirbase_hairpins_counts[~mirbase_hairpins_counts['miRNA'].isin(valid_mirnas_nopass_list)]\n",
    "mirbase_hairpins_counts_pass.head()"
   ]
  },
  {
   "cell_type": "markdown",
   "metadata": {},
   "source": [
    "Those were the valid or non processed miRNAs."
   ]
  },
  {
   "cell_type": "code",
   "execution_count": null,
   "metadata": {},
   "outputs": [],
   "source": [
    "mirbase_hairpins_de = pandas.read_csv('../2019_miRNA_sequencing/mirbase_hairpins_diffexpression.tsv',\n",
    "                                          sep = '\\t'\n",
    "                                         )\n",
    "\n",
    "mirbase_hairpins_de.head()"
   ]
  },
  {
   "cell_type": "code",
   "execution_count": null,
   "metadata": {},
   "outputs": [],
   "source": [
    "mirbase_hairpins_de_pass = mirbase_hairpins_de[~mirbase_hairpins_de['miRNA'].isin(valid_mirnas_nopass_list)]\n",
    "mirbase_hairpins_de_pass.head()"
   ]
  },
  {
   "cell_type": "markdown",
   "metadata": {},
   "source": [
    "Next, are the no pass!"
   ]
  },
  {
   "cell_type": "code",
   "execution_count": null,
   "metadata": {},
   "outputs": [],
   "source": [
    "mirbase_hairpins_de[mirbase_hairpins_de['miRNA'].isin(valid_mirnas_nopass_list)].head()"
   ]
  },
  {
   "cell_type": "markdown",
   "metadata": {},
   "source": [
    "### Saving the new lists to new files"
   ]
  },
  {
   "cell_type": "code",
   "execution_count": null,
   "metadata": {},
   "outputs": [],
   "source": [
    "mirbase_hairpins_counts_pass.to_csv('mirbase_hairpins_counts_pass.tsv',\n",
    "                                    sep = '\\t'\n",
    "                                   )\n",
    "\n",
    "\n",
    "mirbase_hairpins_de_pass.to_csv('mirbase_hairpins_diffexpression_pass.tsv',\n",
    "                                sep = '\\t'\n",
    "                               )"
   ]
  }
 ],
 "metadata": {
  "kernelspec": {
   "display_name": "Python 3",
   "language": "python",
   "name": "python3"
  },
  "language_info": {
   "codemirror_mode": {
    "name": "ipython",
    "version": 3
   },
   "file_extension": ".py",
   "mimetype": "text/x-python",
   "name": "python",
   "nbconvert_exporter": "python",
   "pygments_lexer": "ipython3",
   "version": "3.6.9"
  }
 },
 "nbformat": 4,
 "nbformat_minor": 4
}
