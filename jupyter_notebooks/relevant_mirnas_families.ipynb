{
 "cells": [
  {
   "cell_type": "markdown",
   "metadata": {},
   "source": [
    "# miRNA-Seq\n",
    "\n",
    "## Most relevant miRNAs based on families"
   ]
  },
  {
   "cell_type": "markdown",
   "metadata": {},
   "source": [
    "### Load required modules"
   ]
  },
  {
   "cell_type": "code",
   "execution_count": null,
   "metadata": {},
   "outputs": [],
   "source": [
    "%matplotlib inline\n",
    "import pandas\n",
    "import matplotlib.pyplot as plt\n",
    "import matplotlib_venn as plt_venn"
   ]
  },
  {
   "cell_type": "markdown",
   "metadata": {},
   "source": [
    "### Load the input file"
   ]
  },
  {
   "cell_type": "code",
   "execution_count": null,
   "metadata": {},
   "outputs": [],
   "source": [
    "mirbase_hairpins = pandas.read_csv('../../../2019_only_valid_mirnas/mirbase_hairpins_counts_pass.tsv',\n",
    "                                   sep = '\\t',\n",
    "                                   index_col = 0\n",
    "                                  )\n",
    "\n",
    "mirbase_hairpins.head()"
   ]
  },
  {
   "cell_type": "markdown",
   "metadata": {},
   "source": [
    "### Compute families"
   ]
  },
  {
   "cell_type": "code",
   "execution_count": null,
   "metadata": {},
   "outputs": [],
   "source": [
    "def set_family(mirna):\n",
    "    if mirna[-1].isalpha():\n",
    "        return mirna[:-1]\n",
    "    \n",
    "    return mirna"
   ]
  },
  {
   "cell_type": "code",
   "execution_count": null,
   "metadata": {},
   "outputs": [],
   "source": [
    "mirbase_hairpins['miRNA'].tolist()\n",
    "mirbase_hairpins['family'] = [set_family(mirna) for mirna in mirbase_hairpins['miRNA'].tolist()]\n",
    "mirbase_hairpins.head()"
   ]
  },
  {
   "cell_type": "code",
   "execution_count": null,
   "metadata": {},
   "outputs": [],
   "source": [
    "mirbase_hairpins_group = mirbase_hairpins.groupby(by = 'family').sum()\n",
    "mirbase_hairpins_group.columns = ['FB', 'FEF', 'FH', 'MB', 'MEF', 'MH', 'TNB', 'TNEF', 'TNH', 'FB_norm', 'FEF_norm', 'FH_norm', 'MB_norm', 'MEF_norm', 'MH_norm', 'TNB_norm', 'TNEF_norm', 'TNH_norm']\n",
    "mirbase_hairpins_group.head()"
   ]
  },
  {
   "cell_type": "markdown",
   "metadata": {},
   "source": [
    "### Save the results into a new CSV file"
   ]
  },
  {
   "cell_type": "code",
   "execution_count": null,
   "metadata": {},
   "outputs": [],
   "source": [
    "mirbase_hairpins_group.to_csv('mirnas_by_family.csv',\n",
    "                              sep = '\\t'\n",
    "                             )"
   ]
  },
  {
   "cell_type": "markdown",
   "metadata": {},
   "source": [
    "### By flower type\n",
    "\n",
    "In this segment, I will evaluate which miRNAs are flower type dependent.\n",
    "\n",
    "#### Allways present miRNAS"
   ]
  },
  {
   "cell_type": "code",
   "execution_count": null,
   "metadata": {},
   "outputs": [],
   "source": [
    "# Prepare present filters\n",
    "fb_active = mirbase_hairpins_group['FB_norm'] > 10\n",
    "fef_active = mirbase_hairpins_group['FEF_norm'] > 10\n",
    "fh_active = mirbase_hairpins_group['FH_norm'] > 10\n",
    "\n",
    "mb_active = mirbase_hairpins_group['MB_norm'] > 10\n",
    "mef_active = mirbase_hairpins_group['MEF_norm'] > 10\n",
    "mh_active = mirbase_hairpins_group['MH_norm'] > 10\n",
    "\n",
    "tnb_active = mirbase_hairpins_group['TNB_norm'] > 10\n",
    "tnef_active = mirbase_hairpins_group['TNEF_norm'] > 10\n",
    "tnh_active = mirbase_hairpins_group['TNH_norm'] > 10"
   ]
  },
  {
   "cell_type": "code",
   "execution_count": null,
   "metadata": {},
   "outputs": [],
   "source": [
    "families_allways_present = mirbase_hairpins_group[fb_active & fef_active & fh_active & mb_active & mef_active & mh_active & tnb_active & tnef_active & tnh_active].index.tolist()\n",
    "print(f'There are {len(families_allways_present)} families allways present')\n",
    "families_allways_present"
   ]
  },
  {
   "cell_type": "markdown",
   "metadata": {},
   "source": [
    "#### Present in *V. v. sylvestris* but not in *V. v. vinifera*"
   ]
  },
  {
   "cell_type": "code",
   "execution_count": null,
   "metadata": {},
   "outputs": [],
   "source": [
    "# Prepare absence filters\n",
    "fb_inactive = mirbase_hairpins_group['FB_norm'] < 10\n",
    "fef_inactive = mirbase_hairpins_group['FEF_norm'] < 10\n",
    "fh_inactive = mirbase_hairpins_group['FH_norm'] < 10\n",
    "\n",
    "mb_inactive = mirbase_hairpins_group['MB_norm'] < 10\n",
    "mef_inactive = mirbase_hairpins_group['MEF_norm'] < 10\n",
    "mh_inactive = mirbase_hairpins_group['MH_norm'] < 10\n",
    "\n",
    "tnb_inactive = mirbase_hairpins_group['TNB_norm'] < 10\n",
    "tnef_inactive = mirbase_hairpins_group['TNEF_norm'] < 10\n",
    "tnh_inactive = mirbase_hairpins_group['TNH_norm'] < 10"
   ]
  },
  {
   "cell_type": "code",
   "execution_count": null,
   "metadata": {},
   "outputs": [],
   "source": [
    "families_present_only_sylvestris = mirbase_hairpins_group[fb_active & fef_active & fh_active & mb_active & mef_active & mh_active & tnb_inactive & tnef_inactive & tnh_inactive].index.tolist()\n",
    "print(f'There are {len(families_present_only_sylvestris)} families present in V. v. sylvestris but not in V. v. vinifera')\n",
    "families_present_only_sylvestris"
   ]
  },
  {
   "cell_type": "markdown",
   "metadata": {},
   "source": [
    "#### Not present in *V. v. sylvestris* but present in *V. v. vinifera*"
   ]
  },
  {
   "cell_type": "code",
   "execution_count": null,
   "metadata": {},
   "outputs": [],
   "source": [
    "families_present_only_vinifera = mirbase_hairpins_group[fb_inactive & fef_inactive & fh_inactive & mb_inactive & mef_inactive & mh_inactive & tnb_active & tnef_active & tnh_active].index.tolist()\n",
    "print(f'There are {len(families_present_only_vinifera)} families present in V. v. vinifera but not in V. v. sylvestris')\n",
    "families_present_only_vinifera"
   ]
  },
  {
   "cell_type": "markdown",
   "metadata": {},
   "source": [
    "#### By flower type"
   ]
  },
  {
   "cell_type": "code",
   "execution_count": null,
   "metadata": {},
   "outputs": [],
   "source": [
    "present_in_females = mirbase_hairpins_group[fb_active & fef_active & fh_active].index.tolist()\n",
    "print(f'There are {len(present_in_females)} families present Female')\n",
    "\n",
    "present_in_males = mirbase_hairpins_group[mb_active & mef_active & mh_active].index.tolist()\n",
    "print(f'There are {len(present_in_males)} families present Males')\n",
    "\n",
    "present_in_hermaphrodites = mirbase_hairpins_group[tnb_active & tnef_active & tnh_active].index.tolist()\n",
    "print(f'There are {len(present_in_hermaphrodites)} families present Hermaphrodites')\n",
    "\n",
    "print(f'{mirbase_hairpins_group.shape[0]} families tested')\n"
   ]
  },
  {
   "cell_type": "code",
   "execution_count": null,
   "metadata": {},
   "outputs": [],
   "source": [
    "plt_venn.venn3_unweighted([set(present_in_females),\n",
    "                           set(present_in_males),\n",
    "                           set(present_in_hermaphrodites)],\n",
    "                          set_labels = ('Female', 'Male', 'Hermaphrodite')\n",
    "                         )"
   ]
  },
  {
   "cell_type": "code",
   "execution_count": null,
   "metadata": {},
   "outputs": [],
   "source": [
    "[mirna for mirna in present_in_females if mirna not in present_in_males]"
   ]
  },
  {
   "cell_type": "markdown",
   "metadata": {},
   "source": [
    "vvi-MIR172 is present in all female samples, but absent in at least one male and one hermaphrodite sample."
   ]
  },
  {
   "cell_type": "code",
   "execution_count": null,
   "metadata": {},
   "outputs": [],
   "source": [
    "[mirna for mirna in present_in_males if mirna not in present_in_females]"
   ]
  },
  {
   "cell_type": "markdown",
   "metadata": {},
   "source": [
    "vvi-MIR828 is present in all male samples, but absent in at least one female and one hermaphrodite sample."
   ]
  },
  {
   "cell_type": "markdown",
   "metadata": {},
   "source": [
    "#### By developmental stage"
   ]
  },
  {
   "cell_type": "code",
   "execution_count": null,
   "metadata": {},
   "outputs": [],
   "source": [
    "present_in_stage_b = mirbase_hairpins_group[fb_active & mb_active & tnb_active].index.tolist()\n",
    "print(f'There are {len(present_in_stage_b)} families present in stage B')\n",
    "\n",
    "present_in_stage_ef = mirbase_hairpins_group[fef_active & mef_active & tnef_active].index.tolist()\n",
    "print(f'There are {len(present_in_stage_ef)} families present in stage EF')\n",
    "\n",
    "present_in_stage_h = mirbase_hairpins_group[fh_active & mh_active & tnh_active].index.tolist()\n",
    "print(f'There are {len(present_in_stage_h)} families present in stage H')\n",
    "\n",
    "print(f'{mirbase_hairpins_group.shape[0]} families tested')"
   ]
  },
  {
   "cell_type": "code",
   "execution_count": null,
   "metadata": {},
   "outputs": [],
   "source": [
    "plt_venn.venn3_unweighted([set(present_in_stage_b),\n",
    "                           set(present_in_stage_ef),\n",
    "                           set(present_in_stage_h)],\n",
    "                          set_labels = ('B', 'E/F', 'H')\n",
    "                         )"
   ]
  },
  {
   "cell_type": "code",
   "execution_count": null,
   "metadata": {},
   "outputs": [],
   "source": [
    "[mirna for mirna in present_in_stage_ef if mirna not in present_in_stage_b and mirna not in present_in_stage_h]"
   ]
  },
  {
   "cell_type": "code",
   "execution_count": null,
   "metadata": {},
   "outputs": [],
   "source": [
    "[mirna for mirna in present_in_stage_ef if mirna in present_in_stage_b and mirna not in present_in_stage_h]"
   ]
  },
  {
   "cell_type": "code",
   "execution_count": null,
   "metadata": {},
   "outputs": [],
   "source": [
    "[mirna for mirna in present_in_stage_ef if mirna not in present_in_stage_b and mirna in present_in_stage_h]"
   ]
  },
  {
   "cell_type": "code",
   "execution_count": null,
   "metadata": {},
   "outputs": [],
   "source": [
    "[mirna for mirna in present_in_stage_h if mirna not in present_in_stage_b and mirna not in present_in_stage_ef]"
   ]
  },
  {
   "cell_type": "markdown",
   "metadata": {},
   "source": [
    "#### Combine both (flower type and developmental stage)\n",
    "\n",
    "##### Distinguish by flower type approach\n",
    "\n",
    "Order is B, E/F, H"
   ]
  },
  {
   "cell_type": "code",
   "execution_count": null,
   "metadata": {},
   "outputs": [],
   "source": [
    "# Get lists\n",
    "fb_active = mirbase_hairpins_group[mirbase_hairpins_group['FB_norm'] > 10].index.tolist()\n",
    "fef_active = mirbase_hairpins_group[mirbase_hairpins_group['FEF_norm'] > 10].index.tolist()\n",
    "fh_active = mirbase_hairpins_group[mirbase_hairpins_group['FH_norm'] > 10].index.tolist()\n",
    "\n",
    "mb_active = mirbase_hairpins_group[mirbase_hairpins_group['MB_norm'] > 10].index.tolist()\n",
    "mef_active = mirbase_hairpins_group[mirbase_hairpins_group['MEF_norm'] > 10].index.tolist()\n",
    "mh_active = mirbase_hairpins_group[mirbase_hairpins_group['MH_norm'] > 10].index.tolist()\n",
    "\n",
    "tnb_active = mirbase_hairpins_group[mirbase_hairpins_group['TNB_norm'] > 10].index.tolist()\n",
    "tnef_active = mirbase_hairpins_group[mirbase_hairpins_group['TNEF_norm'] > 10].index.tolist()\n",
    "tnh_active = mirbase_hairpins_group[mirbase_hairpins_group['TNH_norm'] > 10].index.tolist()"
   ]
  },
  {
   "cell_type": "code",
   "execution_count": null,
   "metadata": {},
   "outputs": [],
   "source": [
    "plt_venn.venn3_unweighted([set(fb_active),\n",
    "                           set(mb_active),\n",
    "                           set(tnb_active)],\n",
    "                          set_labels = ('Female', 'Male', 'Hermaphrodite')\n",
    "                         )"
   ]
  },
  {
   "cell_type": "code",
   "execution_count": null,
   "metadata": {},
   "outputs": [],
   "source": [
    "[mirna for mirna in mb_active if mirna not in fb_active and mirna in tnb_active]"
   ]
  },
  {
   "cell_type": "code",
   "execution_count": null,
   "metadata": {},
   "outputs": [],
   "source": [
    "[mirna for mirna in tnb_active if mirna not in fb_active and mirna not in mb_active]"
   ]
  },
  {
   "cell_type": "code",
   "execution_count": null,
   "metadata": {},
   "outputs": [],
   "source": [
    "plt_venn.venn3_unweighted([set(fef_active),\n",
    "                           set(mef_active),\n",
    "                           set(tnef_active)],\n",
    "                          set_labels = ('Female', 'Male', 'Hermaphrodite')\n",
    "                         )"
   ]
  },
  {
   "cell_type": "code",
   "execution_count": null,
   "metadata": {},
   "outputs": [],
   "source": [
    "plt_venn.venn3_unweighted([set(fh_active),\n",
    "                           set(mh_active),\n",
    "                           set(tnh_active)],\n",
    "                          set_labels = ('Female', 'Male', 'Hermaphrodite')\n",
    "                         )"
   ]
  },
  {
   "cell_type": "code",
   "execution_count": null,
   "metadata": {},
   "outputs": [],
   "source": [
    "[mirna for mirna in fh_active if mirna not in mh_active and mirna not in tnh_active]"
   ]
  },
  {
   "cell_type": "code",
   "execution_count": null,
   "metadata": {},
   "outputs": [],
   "source": [
    "[mirna for mirna in tnh_active if mirna not in mh_active and mirna not in fh_active]"
   ]
  },
  {
   "cell_type": "markdown",
   "metadata": {},
   "source": [
    "##### Distinguish by developmental stage approach\n",
    "\n",
    "Order is Female, Male, Hermaphrodite"
   ]
  },
  {
   "cell_type": "code",
   "execution_count": null,
   "metadata": {},
   "outputs": [],
   "source": [
    "plt_venn.venn3_unweighted([set(fb_active),\n",
    "                           set(fef_active),\n",
    "                           set(fh_active)],\n",
    "                          set_labels = ('B', 'E/F', 'H')\n",
    "                         )"
   ]
  },
  {
   "cell_type": "code",
   "execution_count": null,
   "metadata": {},
   "outputs": [],
   "source": [
    "[mirna for mirna in fef_active if mirna not in fb_active and mirna not in fh_active]"
   ]
  },
  {
   "cell_type": "code",
   "execution_count": null,
   "metadata": {},
   "outputs": [],
   "source": [
    "[mirna for mirna in fef_active if mirna not in fb_active and mirna in fh_active]"
   ]
  },
  {
   "cell_type": "code",
   "execution_count": null,
   "metadata": {},
   "outputs": [],
   "source": [
    "[mirna for mirna in fh_active if mirna not in fb_active and mirna not in fef_active]"
   ]
  },
  {
   "cell_type": "code",
   "execution_count": null,
   "metadata": {},
   "outputs": [],
   "source": [
    "plt_venn.venn3_unweighted([set(mb_active),\n",
    "                           set(mef_active),\n",
    "                           set(mh_active)],\n",
    "                          set_labels = ('B', 'E/F', 'H')\n",
    "                         )"
   ]
  },
  {
   "cell_type": "code",
   "execution_count": null,
   "metadata": {},
   "outputs": [],
   "source": [
    "[mirna for mirna in mb_active if mirna in mef_active and mirna not in mh_active]"
   ]
  },
  {
   "cell_type": "code",
   "execution_count": null,
   "metadata": {},
   "outputs": [],
   "source": [
    "[mirna for mirna in mef_active if mirna not in mb_active and mirna not in mh_active]"
   ]
  },
  {
   "cell_type": "code",
   "execution_count": null,
   "metadata": {},
   "outputs": [],
   "source": [
    "[mirna for mirna in mh_active if mirna not in mb_active and mirna not in mef_active]"
   ]
  },
  {
   "cell_type": "code",
   "execution_count": null,
   "metadata": {},
   "outputs": [],
   "source": [
    "plt_venn.venn3_unweighted([set(tnb_active),\n",
    "                           set(tnef_active),\n",
    "                           set(tnh_active)],\n",
    "                          set_labels = ('B', 'E/F', 'H')\n",
    "                         )"
   ]
  },
  {
   "cell_type": "code",
   "execution_count": null,
   "metadata": {},
   "outputs": [],
   "source": [
    "[mirna for mirna in tnb_active if mirna in tnef_active and mirna not in tnh_active]"
   ]
  },
  {
   "cell_type": "code",
   "execution_count": null,
   "metadata": {},
   "outputs": [],
   "source": [
    "[mirna for mirna in tnh_active if mirna not in tnb_active and mirna not in tnef_active]"
   ]
  },
  {
   "cell_type": "code",
   "execution_count": null,
   "metadata": {},
   "outputs": [],
   "source": [
    "[mirna for mirna in tnb_active if mirna in tnh_active and mirna not in tnef_active]"
   ]
  },
  {
   "cell_type": "markdown",
   "metadata": {},
   "source": [
    "### Venn by flower type, with all developmental stages added as \"or\""
   ]
  },
  {
   "cell_type": "code",
   "execution_count": null,
   "metadata": {},
   "outputs": [],
   "source": [
    "fb_active_condition = mirbase_hairpins_group['FB_norm'] > 10\n",
    "fef_active_condition = mirbase_hairpins_group['FEF_norm'] > 10\n",
    "fh_active_condition = mirbase_hairpins_group['FH_norm'] > 10\n",
    "\n",
    "mb_active_condition = mirbase_hairpins_group['MB_norm'] > 10\n",
    "mef_active_condition = mirbase_hairpins_group['MEF_norm'] > 10\n",
    "mh_active_condition = mirbase_hairpins_group['MH_norm'] > 10\n",
    "\n",
    "tnb_active_condition = mirbase_hairpins_group['TNB_norm'] > 10\n",
    "tnef_active_condition = mirbase_hairpins_group['TNEF_norm'] > 10\n",
    "tnh_active_condition = mirbase_hairpins_group['TNH_norm'] > 10\n",
    "\n",
    "present_in_females = mirbase_hairpins_group[fb_active_condition | fef_active_condition | fh_active_condition].index.tolist()\n",
    "print(f'There are {len(present_in_females)} families present Female')\n",
    "\n",
    "present_in_males = mirbase_hairpins_group[mb_active_condition | mef_active_condition | mh_active_condition].index.tolist()\n",
    "print(f'There are {len(present_in_males)} families present Males')\n",
    "\n",
    "present_in_hermaphrodites = mirbase_hairpins_group[tnb_active_condition | tnef_active_condition | tnh_active_condition].index.tolist()\n",
    "print(f'There are {len(present_in_hermaphrodites)} families present Hermaphrodites')\n",
    "\n",
    "print(f'{mirbase_hairpins_group.shape[0]} families in the file')"
   ]
  },
  {
   "cell_type": "code",
   "execution_count": null,
   "metadata": {},
   "outputs": [],
   "source": [
    "plt_venn.venn3_unweighted([set(present_in_females),\n",
    "                           set(present_in_males),\n",
    "                           set(present_in_hermaphrodites)],\n",
    "                          set_labels = ('Female', 'Male', 'Hermaphrodite')\n",
    "                         )"
   ]
  },
  {
   "cell_type": "code",
   "execution_count": null,
   "metadata": {},
   "outputs": [],
   "source": [
    "[mirna for mirna in present_in_hermaphrodites if mirna not in present_in_males and mirna not in present_in_females]"
   ]
  },
  {
   "cell_type": "markdown",
   "metadata": {},
   "source": [
    "### Venn by developmental stage, with all flower types added as \"or\""
   ]
  },
  {
   "cell_type": "code",
   "execution_count": null,
   "metadata": {},
   "outputs": [],
   "source": [
    "present_in_b = mirbase_hairpins_group[fb_active_condition | mb_active_condition | tnb_active_condition].index.tolist()\n",
    "print(f'There are {len(present_in_b)} families present in stage B')\n",
    "\n",
    "present_in_ef = mirbase_hairpins_group[fef_active_condition | mef_active_condition | tnef_active_condition].index.tolist()\n",
    "print(f'There are {len(present_in_ef)} families present in stage E/F')\n",
    "\n",
    "present_in_h = mirbase_hairpins_group[fh_active_condition | mh_active_condition | tnh_active_condition].index.tolist()\n",
    "print(f'There are {len(present_in_h)} families present in stage H')"
   ]
  },
  {
   "cell_type": "code",
   "execution_count": null,
   "metadata": {},
   "outputs": [],
   "source": [
    "plt_venn.venn3_unweighted([set(present_in_b),\n",
    "                           set(present_in_ef),\n",
    "                           set(present_in_h)],\n",
    "                          set_labels = ('B', 'E/F', 'H')\n",
    "                         )"
   ]
  },
  {
   "cell_type": "code",
   "execution_count": null,
   "metadata": {},
   "outputs": [],
   "source": [
    "[mirna for mirna in present_in_b if mirna in present_in_ef and mirna not in present_in_h]"
   ]
  },
  {
   "cell_type": "code",
   "execution_count": null,
   "metadata": {},
   "outputs": [],
   "source": [
    "[mirna for mirna in present_in_b if mirna in present_in_h and mirna not in present_in_ef]"
   ]
  },
  {
   "cell_type": "code",
   "execution_count": null,
   "metadata": {},
   "outputs": [],
   "source": [
    "[mirna for mirna in present_in_h if mirna not in present_in_b and mirna not in present_in_ef]"
   ]
  },
  {
   "cell_type": "markdown",
   "metadata": {},
   "source": [
    "### Create a table with only the most relevant miRNAs"
   ]
  },
  {
   "cell_type": "code",
   "execution_count": null,
   "metadata": {},
   "outputs": [],
   "source": [
    "relevant_mirnas = ['vvi-MIR172',\n",
    "                   'vvi-MIR477',\n",
    "                   'vvi-MIR828',\n",
    "                   'vvi-MIR845',\n",
    "                   'vvi-MIR2111'\n",
    "                  ]"
   ]
  },
  {
   "cell_type": "code",
   "execution_count": null,
   "metadata": {},
   "outputs": [],
   "source": [
    "mirbase_hairpins_group.loc[relevant_mirnas]"
   ]
  },
  {
   "cell_type": "code",
   "execution_count": null,
   "metadata": {},
   "outputs": [],
   "source": [
    "mirbase_hairpins_group.loc[relevant_mirnas].to_csv('mirnas_by_family_relevant_only.csv',\n",
    "                                                   sep = '\\t'\n",
    "                                                  )"
   ]
  }
 ],
 "metadata": {
  "kernelspec": {
   "display_name": "Python 3",
   "language": "python",
   "name": "python3"
  },
  "language_info": {
   "codemirror_mode": {
    "name": "ipython",
    "version": 3
   },
   "file_extension": ".py",
   "mimetype": "text/x-python",
   "name": "python",
   "nbconvert_exporter": "python",
   "pygments_lexer": "ipython3",
   "version": "3.6.9"
  }
 },
 "nbformat": 4,
 "nbformat_minor": 4
}
