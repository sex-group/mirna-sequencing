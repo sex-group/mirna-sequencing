{
 "cells": [
  {
   "cell_type": "markdown",
   "metadata": {},
   "source": [
    "# miRNA-Seq on unique table\n",
    "\n",
    "This script is intended to create a single miRNA table, with the counts' results from PNRD (mature and precursors) and miRBase (mature and hairpins)."
   ]
  },
  {
   "cell_type": "code",
   "execution_count": null,
   "metadata": {},
   "outputs": [],
   "source": [
    "%pylab inline\n",
    "#import matplotlib_venn\n",
    "import pandas\n",
    "#import scipy"
   ]
  },
  {
   "cell_type": "markdown",
   "metadata": {},
   "source": [
    "## Load raw data files\n",
    "In this segment, raw data files will be loaded, prepared to be merged and merged in the end.\n",
    "\n",
    "Preparation steps include:\n",
    "1. renaming the columns to normalise the raw data\n",
    "2. drop irrelevant columns (accession and non normalised counts)\n",
    "3. rename columns to include original database\n",
    "4. lowercase miRNA to be used as index\n",
    "5. set miRNA name as index\n",
    "\n",
    "After merge, the data frame was sorted by index."
   ]
  },
  {
   "cell_type": "code",
   "execution_count": null,
   "metadata": {},
   "outputs": [],
   "source": [
    "# Loading\n",
    "pnrd_mature = pandas.read_csv(\"pmrd_mature_counts.tsv\", sep = \"\\t\", header = 0)\n",
    "pnrd_percursors = pandas.read_csv(\"pmrd_premirs_counts.tsv\", sep = \"\\t\", header = 0)\n",
    "mirbase_mature = pandas.read_csv(\"mirbase_mature_counts.tsv\", sep = \"\\t\", header = 0)\n",
    "mirbase_precursors = pandas.read_csv(\"mirbase_hairpins_counts.tsv\", sep = \"\\t\", header = 0)\n",
    "\n",
    "\n",
    "# Preparation\n",
    "columns_names = [\"miRNA\", \"accession\",\n",
    "                 \"FB\", \"FEF\", \"FH\",\n",
    "                 \"MB\", \"MEF\", \"MH\",\n",
    "                 \"TNB\", \"TNEF\", \"TNH\",\n",
    "                 \"FB_norm\", \"FEF_norm\", \"FH_norm\",\n",
    "                 \"MB_norm\", \"MEF_norm\", \"MH_norm\",\n",
    "                 \"TNB_norm\", \"TNEF_norm\", \"TNH_norm\"]\n",
    "\n",
    "pnrd_mature.columns = columns_names\n",
    "pnrd_percursors.columns = columns_names\n",
    "mirbase_mature.columns = columns_names\n",
    "mirbase_precursors.columns = columns_names\n",
    "\n",
    "columns_to_drop = [\"accession\", \"FB\", \"FEF\", \"FH\", \"MB\", \"MEF\", \"MH\", \"TNB\", \"TNEF\", \"TNH\"]\n",
    "\n",
    "\n",
    "pnrd_mature = pnrd_mature.drop(labels = columns_to_drop, axis = 1)\n",
    "pnrd_percursors = pnrd_percursors.drop(labels = columns_to_drop, axis = 1)\n",
    "mirbase_mature = mirbase_mature.drop(labels = columns_to_drop, axis = 1)\n",
    "mirbase_precursors = mirbase_precursors.drop(labels = columns_to_drop, axis = 1)\n",
    "\n",
    "pnrd_mature.columns = [\"miRNA\",\n",
    "                       \"FB_pnrd_m\", \"FEF_pnrd_m\", \"FH_pnrd_m\",\n",
    "                       \"MB_pnrd_m\", \"MEF_pnrd_m\", \"MH_pnrd_m\",\n",
    "                       \"TNB_pnrd_m\", \"TNEF_pnrd_m\", \"TNH_pnrd_m\"]\n",
    "\n",
    "pnrd_percursors.columns = [\"miRNA\",\n",
    "                           \"FB_pnrd_p\", \"FEF_pnrd_p\", \"FH_pnrd_p\",\n",
    "                           \"MB_pnrd_p\", \"MEF_pnrd_p\", \"MH_pnrd_p\",\n",
    "                           \"TNB_pnrd_p\", \"TNEF_pnrd_p\", \"TNH_pnrd_p\"]\n",
    "\n",
    "mirbase_mature.columns = [\"miRNA\",\n",
    "                          \"FB_mirbase_m\", \"FEF_mirbase_m\", \"FH_mirbase_m\",\n",
    "                          \"MB_mirbase_m\", \"MEF_mirbase_m\", \"MH_mirbase_m\",\n",
    "                          \"TNB_mirbase_m\", \"TNEF_mirbase_m\", \"TNH_mirbase_m\"]\n",
    "\n",
    "mirbase_precursors.columns = [\"miRNA\",\n",
    "                             \"FB_mirbase_p\", \"FEF_mirbase_p\", \"FH_mirbase_p\",\n",
    "                             \"MB_mirbase_p\", \"MEF_mirbase_p\", \"MH_mirbase_p\",\n",
    "                             \"TNB_mirbase_p\", \"TNEF_mirbase_p\", \"TNH_mirbase_p\"]\n",
    "\n",
    "pnrd_mature[\"miRNA\"] = pnrd_mature[\"miRNA\"].str.lower()\n",
    "pnrd_percursors[\"miRNA\"] = pnrd_percursors[\"miRNA\"].str.lower()\n",
    "mirbase_mature[\"miRNA\"] = mirbase_mature[\"miRNA\"].str.lower()\n",
    "mirbase_precursors[\"miRNA\"] = mirbase_precursors[\"miRNA\"].str.lower()\n",
    "\n",
    "pnrd_mature = pnrd_mature.set_index(\"miRNA\")\n",
    "pnrd_percursors = pnrd_percursors.set_index(\"miRNA\")\n",
    "mirbase_mature = mirbase_mature.set_index(\"miRNA\")\n",
    "mirbase_precursors = mirbase_precursors.set_index(\"miRNA\")\n",
    "\n",
    "\n",
    "# Merge\n",
    "mirnas_all = pandas.concat([pnrd_mature, pnrd_percursors, mirbase_mature, mirbase_precursors], axis = 1, sort = False)\n",
    "mirnas_all = mirnas_all.sort_index()"
   ]
  },
  {
   "cell_type": "code",
   "execution_count": null,
   "metadata": {},
   "outputs": [],
   "source": [
    "mirnas_all.shape"
   ]
  },
  {
   "cell_type": "markdown",
   "metadata": {},
   "source": [
    "Obtained table has 233 lines, and 36 columns (9 columns x 4 databases)."
   ]
  },
  {
   "cell_type": "markdown",
   "metadata": {},
   "source": [
    "## Add a column to indicate if miRNA seems to be relevant"
   ]
  },
  {
   "cell_type": "code",
   "execution_count": null,
   "metadata": {},
   "outputs": [],
   "source": [
    "# Create the relevant column\n",
    "mirnas_all[\"relevant\"] = \"\"\n",
    "\n",
    "\n",
    "# List relevant miRNAs (this data comes from the separate files)\n",
    "# The counts lists were updated @ 2019.02.01\n",
    "pnrd_mature_counts = ['vvi-miR156e', 'vvi-miR160c', 'vvi-miR160d', 'vvi-miR160e', 'vvi-miR167d', 'vvi-miR167e', 'vvi-miR171a', 'vvi-miR171c', 'vvi-miR171d', 'vvi-miR171i', 'vvi-miR172d', 'vvi-miR2950', 'vvi-miR3624', 'vvi-miR3624*', 'vvi-miR3625', 'vvi-miR3625*', 'vvi-miR3626', 'vvi-miR3626*', 'vvi-miR3630*', 'vvi-miR3632', 'vvi-miR3632*', 'vvi-miR3633b*', 'vvi-miR3635', 'vvi-miR3635*', 'vvi-miR394a', 'vvi-miR394b', 'vvi-miR394c', 'vvi-miR395a', 'vvi-miR395b', 'vvi-miR395c', 'vvi-miR395d', 'vvi-miR395e', 'vvi-miR395f', 'vvi-miR395g', 'vvi-miR395h', 'vvi-miR395i', 'vvi-miR395j', 'vvi-miR395k', 'vvi-miR395l', 'vvi-miR395m', 'vvi-miR396b', 'vvi-miR397a', 'vvi-miR399a', 'vvi-miR399c', 'vvi-miR399h', 'vvi-miR535b', 'vvi-miR535c']\n",
    "pnrd_mature_de = ['vvi-miR156e', 'vvi-miR156f', 'vvi-miR156g', 'vvi-miR156i', 'vvi-miR159a', 'vvi-miR159b', 'vvi-miR160c', 'vvi-miR160d', 'vvi-miR160e', 'vvi-miR164d', 'vvi-miR167a', 'vvi-miR167c', 'vvi-miR167e', 'vvi-miR169a', 'vvi-miR169c', 'vvi-miR169e', 'vvi-miR169k', 'vvi-miR169x', 'vvi-miR171c', 'vvi-miR171g', 'vvi-miR171i', 'vvi-miR172c', 'vvi-miR172d', 'vvi-miR2111*', 'vvi-miR2950', 'vvi-miR3623*', 'vvi-miR3624', 'vvi-miR3624*', 'vvi-miR3625', 'vvi-miR3625*', 'vvi-miR3626', 'vvi-miR3626*', 'vvi-miR3627', 'vvi-miR3627*', 'vvi-miR3629a*', 'vvi-miR3629c', 'vvi-miR3630*', 'vvi-miR3631b*', 'vvi-miR3632', 'vvi-miR3632*', 'vvi-miR3633b*', 'vvi-miR3634', 'vvi-miR3634*', 'vvi-miR3635', 'vvi-miR3635*', 'vvi-miR3637', 'vvi-miR3640*', 'vvi-miR393a', 'vvi-miR393b', 'vvi-miR394b', 'vvi-miR395a', 'vvi-miR395b', 'vvi-miR395c', 'vvi-miR395d', 'vvi-miR395e', 'vvi-miR395f', 'vvi-miR395g', 'vvi-miR395h', 'vvi-miR395i', 'vvi-miR395j', 'vvi-miR395k', 'vvi-miR395l', 'vvi-miR395m', 'vvi-miR396a', 'vvi-miR396b', 'vvi-miR396c', 'vvi-miR396d', 'vvi-miR397a', 'vvi-miR398a', 'vvi-miR399a', 'vvi-miR399b', 'vvi-miR399c', 'vvi-miR399h', 'vvi-miR479', 'vvi-miR482', 'vvi-miR535b', 'vvi-miR535c']\n",
    "\n",
    "pnrd_precursors_counts = ['vvi-MIR156e', 'vvi-MIR160c', 'vvi-MIR160d', 'vvi-MIR160e', 'vvi-MIR167d', 'vvi-MIR169c', 'vvi-MIR169g', 'vvi-MIR169j', 'vvi-MIR169k', 'vvi-MIR169s', 'vvi-MIR169u', 'vvi-MIR171e', 'vvi-MIR172a', 'vvi-MIR172b', 'vvi-MIR2111', 'vvi-MIR319e', 'vvi-MIR3629b', 'vvi-MIR3629c', 'vvi-MIR3631c', 'vvi-MIR393a', 'vvi-MIR394b', 'vvi-MIR394c', 'vvi-MIR395a', 'vvi-MIR395b', 'vvi-MIR395c', 'vvi-MIR395d', 'vvi-MIR395e', 'vvi-MIR395f', 'vvi-MIR395g', 'vvi-MIR395h', 'vvi-MIR395i', 'vvi-MIR395j', 'vvi-MIR395k', 'vvi-MIR395l', 'vvi-MIR395m', 'vvi-MIR395n', 'vvi-MIR398a', 'vvi-MIR399a', 'vvi-MIR399b', 'vvi-MIR399c', 'vvi-MIR399h', 'vvi-MIR477', 'vvi-MIR845e']\n",
    "pnrd_precursors_de = ['vvi-MIR156e', 'vvi-MIR156f', 'vvi-MIR156g', 'vvi-MIR156i', 'vvi-MIR160c', 'vvi-MIR160d', 'vvi-MIR167d', 'vvi-MIR169a', 'vvi-MIR169c', 'vvi-MIR169e', 'vvi-MIR169g', 'vvi-MIR169j', 'vvi-MIR169k', 'vvi-MIR169n', 'vvi-MIR169s', 'vvi-MIR169u', 'vvi-MIR171e', 'vvi-MIR172a', 'vvi-MIR172b', 'vvi-MIR2111', 'vvi-MIR3624', 'vvi-MIR3627', 'vvi-MIR3631c', 'vvi-MIR3634', 'vvi-MIR393a', 'vvi-MIR395a', 'vvi-MIR395b', 'vvi-MIR395c', 'vvi-MIR395d', 'vvi-MIR395e', 'vvi-MIR395f', 'vvi-MIR395g', 'vvi-MIR395h', 'vvi-MIR395i', 'vvi-MIR395j', 'vvi-MIR395k', 'vvi-MIR395l', 'vvi-MIR395m', 'vvi-MIR395n', 'vvi-MIR396b', 'vvi-MIR396c', 'vvi-MIR396d', 'vvi-MIR398a', 'vvi-MIR399a', 'vvi-MIR399b', 'vvi-MIR399c', 'vvi-MIR399h', 'vvi-MIR477', 'vvi-MIR845c', 'vvi-MIR845d', 'vvi-MIR845e']\n",
    "\n",
    "mirbase_mature_counts = ['vvi-miR156e', 'vvi-miR167b', 'vvi-miR169a', 'vvi-miR172d', 'vvi-miR2950-5p', 'vvi-miR3625-5p', 'vvi-miR3626-3p', 'vvi-miR3626-5p', 'vvi-miR3630-3p', 'vvi-miR3632-3p', 'vvi-miR3633b-3p', 'vvi-miR393b', 'vvi-miR394a', 'vvi-miR394b', 'vvi-miR395a', 'vvi-miR396b', 'vvi-miR397a', 'vvi-miR399a', 'vvi-miR399b']\n",
    "mirbase_mature_de = ['vvi-miR156f', 'vvi-miR160c', 'vvi-miR167c', 'vvi-miR169a', 'vvi-miR171g', 'vvi-miR172d', 'vvi-miR319e', 'vvi-miR3623-3p', 'vvi-miR3624-3p', 'vvi-miR3625-5p', 'vvi-miR3626-3p', 'vvi-miR3627-5p', 'vvi-miR3632-5p', 'vvi-miR3633b-3p', 'vvi-miR3634-3p', 'vvi-miR3637-3p', 'vvi-miR3640-5p', 'vvi-miR395a', 'vvi-miR396a', 'vvi-miR396b', 'vvi-miR396d', 'vvi-miR398a', 'vvi-miR399a', 'vvi-miR399b']\n",
    "\n",
    "mirbase_precursors_counts = ['vvi-MIR156e', 'vvi-MIR160c', 'vvi-MIR160d', 'vvi-MIR160e', 'vvi-MIR167d', 'vvi-MIR169c', 'vvi-MIR169g', 'vvi-MIR169j', 'vvi-MIR169k', 'vvi-MIR169n', 'vvi-MIR169s', 'vvi-MIR169u', 'vvi-MIR171e', 'vvi-MIR171f', 'vvi-MIR172a', 'vvi-MIR172b', 'vvi-MIR2111', 'vvi-MIR3629a', 'vvi-MIR3629b', 'vvi-MIR3631c', 'vvi-MIR393a', 'vvi-MIR394a', 'vvi-MIR394b', 'vvi-MIR395a', 'vvi-MIR395b', 'vvi-MIR395c', 'vvi-MIR395d', 'vvi-MIR395e', 'vvi-MIR395f', 'vvi-MIR395g', 'vvi-MIR395h', 'vvi-MIR395i', 'vvi-MIR395j', 'vvi-MIR395k', 'vvi-MIR395l', 'vvi-MIR395m', 'vvi-MIR395n', 'vvi-MIR398a', 'vvi-MIR399a', 'vvi-MIR399b', 'vvi-MIR399c', 'vvi-MIR399h', 'vvi-MIR477a', 'vvi-MIR828a', 'vvi-MIR845e']\n",
    "mirbase_precursors_de = ['vvi-MIR156e', 'vvi-MIR156f', 'vvi-MIR156g', 'vvi-MIR156i', 'vvi-MIR160c', 'vvi-MIR167d', 'vvi-MIR169c', 'vvi-MIR169e', 'vvi-MIR169g', 'vvi-MIR169j', 'vvi-MIR169k', 'vvi-MIR169n', 'vvi-MIR169p', 'vvi-MIR169s', 'vvi-MIR169u', 'vvi-MIR171e', 'vvi-MIR171f', 'vvi-MIR172a', 'vvi-MIR172d', 'vvi-MIR2111', 'vvi-MIR3624', 'vvi-MIR3627', 'vvi-MIR3629b', 'vvi-MIR3634', 'vvi-MIR393a', 'vvi-MIR394a', 'vvi-MIR395a', 'vvi-MIR395b', 'vvi-MIR395c', 'vvi-MIR395d', 'vvi-MIR395e', 'vvi-MIR395f', 'vvi-MIR395g', 'vvi-MIR395h', 'vvi-MIR395i', 'vvi-MIR395j', 'vvi-MIR395k', 'vvi-MIR395l', 'vvi-MIR395m', 'vvi-MIR395n', 'vvi-MIR396b', 'vvi-MIR396c', 'vvi-MIR396d', 'vvi-MIR398a', 'vvi-MIR399a', 'vvi-MIR399b', 'vvi-MIR399h', 'vvi-MIR477a', 'vvi-MIR845c', 'vvi-MIR845d', 'vvi-MIR845e']\n",
    "\n",
    "\n",
    "# Normalize all to lower case\n",
    "pnrd_mature_counts = [x.lower() for x in pnrd_mature_counts]\n",
    "pnrd_mature_de = [x.lower() for x in pnrd_mature_de]\n",
    "\n",
    "pnrd_precursors_counts = [x.lower() for x in pnrd_precursors_counts]\n",
    "pnrd_precursors_de = [x.lower() for x in pnrd_precursors_de]\n",
    "\n",
    "mirbase_mature_counts = [x.lower() for x in mirbase_mature_counts]\n",
    "mirbase_mature_de = [x.lower() for x in mirbase_mature_de]\n",
    "\n",
    "mirbase_precursors_counts = [x.lower() for x in mirbase_precursors_counts]\n",
    "mirbase_precursors_de = [x.lower() for x in mirbase_precursors_de]\n",
    "\n",
    "\n",
    "# Add information to the column\n",
    "for miRNA in mirnas_all.index:\n",
    "    reference_value = list()\n",
    "    \n",
    "    if miRNA in pnrd_mature_counts:\n",
    "        reference_value.append(\"PNRD_M_C\")\n",
    "    if miRNA in pnrd_mature_de:\n",
    "        reference_value.append(\"PNRD_M_DE\")\n",
    "    \n",
    "    if miRNA in pnrd_precursors_counts:\n",
    "        reference_value.append(\"PNRD_P_C\")\n",
    "    if miRNA in pnrd_precursors_de:\n",
    "        reference_value.append(\"PNRD_P_DE\")\n",
    "    \n",
    "    if miRNA in mirbase_mature_counts:\n",
    "        reference_value.append(\"miRBase_M_C\")\n",
    "    if miRNA in mirbase_mature_de:\n",
    "        reference_value.append(\"miRBase_M_DE\")\n",
    "    \n",
    "    if miRNA in mirbase_precursors_counts:\n",
    "        reference_value.append(\"miRBase_P_C\")\n",
    "    if miRNA in mirbase_precursors_de:\n",
    "        reference_value.append(\"miRBase_P_DE\")\n",
    "    \n",
    "    mirnas_all[\"relevant\"].loc[miRNA] = \"; \".join(reference_value)"
   ]
  },
  {
   "cell_type": "markdown",
   "metadata": {},
   "source": [
    "## Output final data.frame results\n",
    "\n",
    "Obtained data frame is going to do exported to a tab separated values file."
   ]
  },
  {
   "cell_type": "code",
   "execution_count": null,
   "metadata": {},
   "outputs": [],
   "source": [
    "mirnas_all.to_csv(\"all_miRNAs.csv\", sep = \"\\t\")"
   ]
  },
  {
   "cell_type": "code",
   "execution_count": null,
   "metadata": {},
   "outputs": [],
   "source": [
    "mirnas_all"
   ]
  }
 ],
 "metadata": {
  "kernelspec": {
   "display_name": "Python 3",
   "language": "python",
   "name": "python3"
  },
  "language_info": {
   "codemirror_mode": {
    "name": "ipython",
    "version": 3
   },
   "file_extension": ".py",
   "mimetype": "text/x-python",
   "name": "python",
   "nbconvert_exporter": "python",
   "pygments_lexer": "ipython3",
   "version": "3.6.9"
  }
 },
 "nbformat": 4,
 "nbformat_minor": 4
}
