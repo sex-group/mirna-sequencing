{
 "cells": [
  {
   "cell_type": "markdown",
   "metadata": {},
   "source": [
    "# miRNA-Seq\n",
    "\n",
    "## Validation by Real-Time PCR\n",
    "\n",
    "On previous [friday](qRT-PCR_validation.ipynb), I have tested the Female EF sample RNA50 (diluted 1/50), instead of RNA5 (diluted 1/5). Today I repeated the RT-qPCR with the correct sample.\n",
    "\n",
    "In this experiment I also added 3 controls, to test the reaction without cDNA (using vvi-mir156 primer), without primers, and a pair of wells completelly empty.\n",
    "\n",
    "### List of miRNAs tested\n",
    "* vvi-mir156(d) (positive control, see below)\n",
    "* vvi-mir160(d) (may not work, see below)\n",
    "* vvi-mir168\n",
    "* vvi-mir172(b)\n",
    "* vii-mir828(a) (may not work, see below)\n",
    "\n",
    "#### Notes\n",
    "* vvi-mir156(d) was used as positive control, as this primer already amplified [previously](qRT-PCR_optimizations.ipynb). Also, I wanted to test the consequences of duplicating the Evagreen quantity, so this test will evaluate that.\n",
    "\n",
    "* vvi-mir160(b) and vvi-mir828(a) may not work as these miRNAs are not expected to be present in this sample.\n",
    "\n",
    "* Test was performed in duplicates.\n",
    "\n",
    "* Primer R was Oligo(dT).\n",
    "\n",
    "\n",
    "### Protocol\n",
    "\n",
    "| Component | 1X (µL) | 11X (µL) |\n",
    "| :-------- |-------: | -------: |\n",
    "| Evagreen  |    10.0 |    110.0 |\n",
    "| cDNA      |     0.5 |      5.5 |\n",
    "| Primer F  |     0.5 |      --- |\n",
    "| Primer R  |     0.5 |      5.5 |\n",
    "| H20       |     8.5 |     93.5 |\n",
    "\n",
    "Control wells were set directly in the well (it was not used mix)\n",
    "\n",
    "\n",
    "### Plate Setup\n",
    "\n",
    "* B2-3: vvi-mir156\n",
    "* B4-5: vvi-mir172\n",
    "* B6-7: (control: no primer)\n",
    "* C2-3: vvi-mir160\n",
    "* C4-5: vvi-mir828\n",
    "* C6-7: (control: empty)\n",
    "* D2-3: vvi-mir168\n",
    "* D4-5: (Control: no cDNA)\n",
    "\n",
    "\n",
    "### Run setup\n",
    "\n",
    "1. 95 ºC for 30 seconds\n",
    "2. 95 ºC for 5 seconds\n",
    "3. 60 ºC for 15 seconds\n",
    "4. Go to 2. 45 times"
   ]
  },
  {
   "cell_type": "markdown",
   "metadata": {},
   "source": [
    "### Loading required modules"
   ]
  },
  {
   "cell_type": "code",
   "execution_count": null,
   "metadata": {},
   "outputs": [],
   "source": [
    "%matplotlib inline\n",
    "import pandas as pd\n",
    "import matplotlib.pyplot as plt"
   ]
  },
  {
   "cell_type": "code",
   "execution_count": null,
   "metadata": {},
   "outputs": [],
   "source": [
    "# From the directory that is running notebook\n",
    "path = './'"
   ]
  },
  {
   "cell_type": "markdown",
   "metadata": {},
   "source": [
    "### Preparing data"
   ]
  },
  {
   "cell_type": "code",
   "execution_count": null,
   "metadata": {},
   "outputs": [],
   "source": [
    "columns = {\n",
    "    'Well/Cycles': 'cycle',\n",
    "    \n",
    "    'B02': 'mir156_r1', 'B03': 'mir156_r2',\n",
    "    'B04': 'mir172_r1', 'B05': 'mir172_r2',\n",
    "    'B06': 'no_primer_r1', 'B07': 'no_primer_r2',\n",
    "        \n",
    "    'C02': 'mir160_r1', 'C03': 'mir160_r2',\n",
    "    'C04': 'mir828_r1', 'C05': 'mir828_r2',\n",
    "    'C06': 'empty_r1', 'C07': 'empty_r2',\n",
    "    \n",
    "    'D02': 'mir168_r1', 'D03': 'mir168_r2',\n",
    "    'D04': 'no_cdna_r1', 'D05': 'no_cdna_r2'\n",
    "}"
   ]
  },
  {
   "cell_type": "markdown",
   "metadata": {},
   "source": [
    "### Open amplification file"
   ]
  },
  {
   "cell_type": "code",
   "execution_count": null,
   "metadata": {},
   "outputs": [],
   "source": [
    "amplification = pd.read_csv(f'{path}amplification_data_rfu.tsv',\n",
    "                            sep = '\\t',\n",
    "                            header = 0,\n",
    "                            index_col = 0\n",
    "                           )\n",
    "\n",
    "amplification = amplification.rename(columns = columns)\n",
    "amplification.head()"
   ]
  },
  {
   "cell_type": "markdown",
   "metadata": {},
   "source": [
    "### Verifing amplification curves"
   ]
  },
  {
   "cell_type": "code",
   "execution_count": null,
   "metadata": {},
   "outputs": [],
   "source": [
    "columns_list = list(columns.values())\n",
    "\n",
    "# The first item will be cycle, with is not relevant\n",
    "columns_list.pop(0)\n",
    "\n",
    "# Remove reaction number\n",
    "columns_list = list(map(lambda x: x.rsplit('_', 1)[0], columns_list))\n",
    "\n",
    "# Remove the duplicates\n",
    "columns_list = list(set(columns_list))\n",
    "\n",
    "# Plot the amplifications\n",
    "for sample in columns_list:\n",
    "    amplification[[sample + '_r1', sample + '_r2']].plot()"
   ]
  },
  {
   "cell_type": "markdown",
   "metadata": {},
   "source": [
    "### Considerations on amplification\n",
    "\n",
    "The amplifications are not exactly as expected from miRNA-Seq:\n",
    "* vvi-mir156 had amplification on only one of the reactions. Both should had work (success: 1/2)\n",
    "* vvi-mir160 was not expected to express, and no expression was found (success: 2/2 | 3/4)\n",
    "* vvi-mir168 was expected to express, but no expression was found (success: 0/2 | 3/6)\n",
    "* vvi-mir172 was expected to express and in fact, it express in one reaction (success: 1/2 | 4/8)\n",
    "* vvi-mir828 is a negative control and no expression was found (success: 2/2 | 6/10)\n",
    "* no_cdna did not amplify as expected (success: 2/2 | 8/12)\n",
    "* no_primer we had one unexpected reaction (success: 1/2 | 9/14)\n",
    "* empty did not react (success: 2/2 | 11/16)\n",
    "\n",
    "Success: 67%"
   ]
  },
  {
   "cell_type": "markdown",
   "metadata": {},
   "source": [
    "### Opening melting file"
   ]
  },
  {
   "cell_type": "code",
   "execution_count": null,
   "metadata": {},
   "outputs": [],
   "source": [
    "melting = pd.read_csv(f'{path}melting_data_rfu.tsv',\n",
    "                      sep = '\\t',\n",
    "                      header = 0,\n",
    "                      index_col = 0\n",
    "                     )\n",
    "\n",
    "melting = melting.rename(columns = columns)\n",
    "melting.head()"
   ]
  },
  {
   "cell_type": "markdown",
   "metadata": {},
   "source": [
    "#### Calculating the melting derivate\n",
    "\n",
    "The melting derivate will be calculated according to the formula:\n",
    "`-delta(RFU) / delta(temperature)`\n",
    "\n",
    "On this case, the difference in temperature is always 0.5 as that was the parameters set on the experiment."
   ]
  },
  {
   "cell_type": "code",
   "execution_count": null,
   "metadata": {},
   "outputs": [],
   "source": [
    "def derivate_melting(values):\n",
    "    delta_value = []\n",
    "    for i in range(1, len(values)):\n",
    "        j = i - 1\n",
    "        delta_value.append(values[i] - values[j])\n",
    "    \n",
    "    derivate = list(map(lambda x: -x/0.5, delta_value))\n",
    "    return(derivate)"
   ]
  },
  {
   "cell_type": "code",
   "execution_count": null,
   "metadata": {},
   "outputs": [],
   "source": [
    "for sample in columns_list:\n",
    "    derivate_1 = derivate_melting(melting[sample + '_r1'].values.tolist())\n",
    "    plt.plot(derivate_1)\n",
    "    \n",
    "    derivate_2 = derivate_melting(melting[sample + '_r2'].values.tolist())    \n",
    "    plt.plot(derivate_2)\n",
    "    \n",
    "    plt.title(sample)\n",
    "    \n",
    "    plt.show()"
   ]
  }
 ],
 "metadata": {
  "kernelspec": {
   "display_name": "Python 3",
   "language": "python",
   "name": "python3"
  },
  "language_info": {
   "codemirror_mode": {
    "name": "ipython",
    "version": 3
   },
   "file_extension": ".py",
   "mimetype": "text/x-python",
   "name": "python",
   "nbconvert_exporter": "python",
   "pygments_lexer": "ipython3",
   "version": "3.6.9"
  }
 },
 "nbformat": 4,
 "nbformat_minor": 4
}
