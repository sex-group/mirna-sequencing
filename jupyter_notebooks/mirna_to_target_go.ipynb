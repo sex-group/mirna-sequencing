{
 "cells": [
  {
   "cell_type": "markdown",
   "metadata": {},
   "source": [
    "# miRNA Sequencing\n",
    "\n",
    "2019.03.13\n",
    "\n",
    "## Check the miRNA-target GO\n",
    "\n",
    "Under this experiment we will perform an GO analysis using the GO terms of the target genes, which miRNAs are actives.\n",
    "\n",
    "We will use only PNRD mature datasets, as always.\n",
    "\n",
    "Target will be predicted by [psRNATarget](http://plantgrn.noble.org/psRNATarget/analysis) (submit small RNAs) with an exception limit of 3.\n",
    "\n",
    "GO Enrichment will performed with [PANTHER](http://pantherdb.org/) with option *Statistical overrepresentation test* with default settings. System only provides results when FDR P < 0.05.\n",
    "\n",
    "\n",
    "### Table of contents\n",
    "\n",
    "* [Loading required modules and data](#Loading-required-modules-and-data)\n",
    "* [Female](#Female)\n",
    "* [Male](#Male)\n",
    "* [Hermaphrodite](#Hermaphrodite)\n",
    "\n",
    "\n",
    "### Loading required modules and data\n",
    "\n",
    "([go to top](#miRNA-Sequencing))"
   ]
  },
  {
   "cell_type": "code",
   "execution_count": null,
   "metadata": {},
   "outputs": [],
   "source": [
    "image_size = (8, 6)"
   ]
  },
  {
   "cell_type": "code",
   "execution_count": null,
   "metadata": {},
   "outputs": [],
   "source": [
    "import matplotlib.pyplot as plt\n",
    "import pandas as pd\n",
    "\n",
    "from matplotlib.lines import Line2D"
   ]
  },
  {
   "cell_type": "code",
   "execution_count": null,
   "metadata": {},
   "outputs": [],
   "source": [
    "biological_process = '#CEC3A8'\n",
    "celular_component = '#B23831'\n",
    "molecular_function = '#532F35'\n",
    "\n",
    "custom_lines = [Line2D([0], [0], color=biological_process, lw=4),\n",
    "                Line2D([0], [0], color=celular_component, lw=4),\n",
    "                Line2D([0], [0], color=molecular_function, lw=4)]\n",
    "\n",
    "legend_labbels = ['Biological process', 'Celular component', 'Molecular function']"
   ]
  },
  {
   "cell_type": "markdown",
   "metadata": {},
   "source": [
    "Data will be importted from the existing table.\n",
    "\n",
    "As we only want PNRD mature, we will drop all the others columns and rename the remaining ones to more clear names."
   ]
  },
  {
   "cell_type": "code",
   "execution_count": null,
   "metadata": {},
   "outputs": [],
   "source": [
    "mirna = pd.read_csv('../2019_miRNA_sequencing/all_miRNAs.csv',\n",
    "                    sep = '\\t',\n",
    "                    header = 0,\n",
    "                    index_col = 0)\n",
    "\n",
    "mirna = mirna.drop(columns = ['FB_pnrd_m', 'FEF_pnrd_m', 'FH_pnrd_m', 'MB_pnrd_m', 'MEF_pnrd_m',\n",
    "       'MH_pnrd_m', 'TNB_pnrd_m', 'TNEF_pnrd_m', 'TNH_pnrd_m', 'FB_mirbase_m',\n",
    "       'FEF_mirbase_m', 'FH_mirbase_m', 'MB_mirbase_m', 'MEF_mirbase_m',\n",
    "       'MH_mirbase_m', 'TNB_mirbase_m', 'TNEF_mirbase_m', 'TNH_mirbase_m',\n",
    "       'FB_mirbase_p', 'FEF_mirbase_p', 'FH_mirbase_p', 'MB_mirbase_p',\n",
    "       'MEF_mirbase_p', 'MH_mirbase_p', 'TNB_mirbase_p', 'TNEF_mirbase_p',\n",
    "       'TNH_mirbase_p', 'relevant'])\n",
    "\n",
    "mirna.columns = ['FB', 'FEF', 'FH', 'MB', 'MEF', 'MH', 'TNB', 'TNEF', 'TNH']\n",
    "mirna.head()"
   ]
  },
  {
   "cell_type": "markdown",
   "metadata": {},
   "source": [
    "### Female\n",
    "\n",
    "([go to top](#miRNA-Sequencing))\n",
    "\n",
    "In this segment we will perform the analysis for the miRNAs that are being expressed (normalized count >= 10) on Female samples."
   ]
  },
  {
   "cell_type": "code",
   "execution_count": null,
   "metadata": {},
   "outputs": [],
   "source": [
    "fb_active_mirnas = mirna[mirna['FB'] > 10].index\n",
    "fef_active_mirnas = mirna[mirna['FEF'] > 10].index\n",
    "fh_active_mirnas = mirna[mirna['FH'] > 10].index\n",
    "\n",
    "print('''\n",
    "    Number of miRNAs on FB: {}\n",
    "    Number of miRNAs on FEF: {}\n",
    "    Number of miRNAs on FH: {}\n",
    "    '''.format(len(fb_active_mirnas), len(fef_active_mirnas), len(fh_active_mirnas)))"
   ]
  },
  {
   "cell_type": "markdown",
   "metadata": {},
   "source": [
    "#### Female B\n",
    "\n",
    "List of miRNAs active on this sample"
   ]
  },
  {
   "cell_type": "code",
   "execution_count": null,
   "metadata": {},
   "outputs": [],
   "source": [
    "with open('mirnas_active_fb.txt', 'w') as file:\n",
    "    file.write(\"\\n\".join(fb_active_mirnas.tolist()).replace('vvi-mir', 'vvi-miR'))"
   ]
  },
  {
   "cell_type": "code",
   "execution_count": null,
   "metadata": {},
   "outputs": [],
   "source": [
    "fb_targets = pd.read_csv('psRNATarget_fb.txt',\n",
    "                         sep = '\\t',\n",
    "                         header = 1\n",
    "                        )\n",
    "\n",
    "fb_targets['gene_name'] = [target.split('.')[0] for target in fb_targets['Target_Acc.'].tolist()]\n",
    "\n",
    "fb_targets = fb_targets[['gene_name']].drop_duplicates()\n",
    "\n",
    "with open('targets_fb.txt', 'w') as file:\n",
    "    file.write(\"\\n\".join(fb_targets['gene_name'].tolist()).replace('VIT_2', 'VIT_'))"
   ]
  },
  {
   "cell_type": "code",
   "execution_count": null,
   "metadata": {},
   "outputs": [],
   "source": [
    "fb_biological_process = pd.read_csv('panther_fb_bp.txt',\n",
    "                                    sep = '\\t',\n",
    "                                    header = 6\n",
    "                                   )\n",
    "\n",
    "fb_biological_process.columns = ['GO', 'Ref list', 'Sample list', 'Expected', 'Over/under',\n",
    "                                 'Fold Enrichment', 'P-value', 'FDR'\n",
    "                                ]\n",
    "\n",
    "fb_biological_process['color'] = biological_process\n",
    "fb_biological_process = fb_biological_process.sort_values('Fold Enrichment')"
   ]
  },
  {
   "cell_type": "code",
   "execution_count": null,
   "metadata": {},
   "outputs": [],
   "source": [
    "fb_biological_process"
   ]
  },
  {
   "cell_type": "code",
   "execution_count": null,
   "metadata": {},
   "outputs": [],
   "source": [
    "fb_celular_component = pd.read_csv('panther_fb_cc.txt',\n",
    "                                    sep = '\\t',\n",
    "                                    header = 6\n",
    "                                   )\n",
    "\n",
    "fb_celular_component.columns = ['GO', 'Ref list', 'Sample list', 'Expected', 'Over/under',\n",
    "                                 'Fold Enrichment', 'P-value', 'FDR'\n",
    "                                ]\n",
    "\n",
    "fb_celular_component['color'] = celular_component\n",
    "fb_celular_component = fb_celular_component.sort_values('Fold Enrichment')"
   ]
  },
  {
   "cell_type": "code",
   "execution_count": null,
   "metadata": {},
   "outputs": [],
   "source": [
    "fb_molecular_function = pd.read_csv('panther_fb_mf.txt',\n",
    "                                    sep = '\\t',\n",
    "                                    header = 6\n",
    "                                   )\n",
    "\n",
    "fb_molecular_function.columns = ['GO', 'Ref list', 'Sample list', 'Expected', 'Over/under',\n",
    "                                 'Fold Enrichment', 'P-value', 'FDR'\n",
    "                                ]\n",
    "\n",
    "fb_molecular_function['color'] = molecular_function\n",
    "fb_molecular_function = fb_molecular_function.sort_values('Fold Enrichment')"
   ]
  },
  {
   "cell_type": "code",
   "execution_count": null,
   "metadata": {},
   "outputs": [],
   "source": [
    "fb_go = pd.concat([fb_biological_process,\n",
    "                   fb_celular_component,\n",
    "                   fb_molecular_function\n",
    "                  ],\n",
    "                  ignore_index=True\n",
    "                 )\n",
    "\n",
    "fb_go = fb_go[fb_go['GO'] != 'Unclassified (UNCLASSIFIED)']\n",
    "fb_go['GO_term'] = [go[1].replace(')', '') for go in fb_go.GO.str.split('(').tolist()]"
   ]
  },
  {
   "cell_type": "code",
   "execution_count": null,
   "metadata": {},
   "outputs": [],
   "source": [
    "#Prepare plots\n",
    "from matplotlib import rcParams\n",
    "rcParams.update({'figure.autolayout': True})"
   ]
  },
  {
   "cell_type": "code",
   "execution_count": null,
   "metadata": {},
   "outputs": [],
   "source": [
    "plt.figure(figsize = image_size)\n",
    "plt.barh(fb_go['GO_term'], fb_go['Fold Enrichment'], color = fb_go['color'])\n",
    "plt.title('Female B')\n",
    "plt.xlabel('Fold Enrichment')\n",
    "plt.legend(custom_lines[::-1], legend_labbels[::-1])\n",
    "plt.savefig('plot_fb.png', dpi=600)\n",
    "plt.show()"
   ]
  },
  {
   "cell_type": "markdown",
   "metadata": {},
   "source": [
    "#### Female E/F\n",
    "\n",
    "List of miRNAs active on stage E/F from females."
   ]
  },
  {
   "cell_type": "code",
   "execution_count": null,
   "metadata": {},
   "outputs": [],
   "source": [
    "with open('mirnas_active_fef.txt', 'w') as file:\n",
    "    file.write(\"\\n\".join(fef_active_mirnas.tolist()).replace('vvi-mir', 'vvi-miR'))"
   ]
  },
  {
   "cell_type": "code",
   "execution_count": null,
   "metadata": {},
   "outputs": [],
   "source": [
    "fef_targets = pd.read_csv('psRNATarget_fef.txt',\n",
    "                         sep = '\\t',\n",
    "                         header = 1\n",
    "                        )\n",
    "\n",
    "fef_targets['gene_name'] = [target.split('.')[0] for target in fef_targets['Target_Acc.'].tolist()]\n",
    "\n",
    "fef_targets = fef_targets[['gene_name']].drop_duplicates()\n",
    "\n",
    "with open('targets_fef.txt', 'w') as file:\n",
    "    file.write(\"\\n\".join(fef_targets['gene_name'].tolist()).replace('VIT_2', 'VIT_'))"
   ]
  },
  {
   "cell_type": "code",
   "execution_count": null,
   "metadata": {},
   "outputs": [],
   "source": [
    "fef_biological_process = pd.read_csv('panther_fef_bp.txt',\n",
    "                                    sep = '\\t',\n",
    "                                    header = 6\n",
    "                                   )\n",
    "\n",
    "fef_biological_process.columns = ['GO', 'Ref list', 'Sample list', 'Expected', 'Over/under',\n",
    "                                 'Fold Enrichment', 'P-value', 'FDR'\n",
    "                                ]\n",
    "\n",
    "fef_biological_process['color'] = biological_process\n",
    "fef_biological_process = fef_biological_process.sort_values('Fold Enrichment')"
   ]
  },
  {
   "cell_type": "code",
   "execution_count": null,
   "metadata": {},
   "outputs": [],
   "source": [
    "fef_celular_component = pd.read_csv('panther_fef_cc.txt',\n",
    "                                    sep = '\\t',\n",
    "                                    header = 6\n",
    "                                   )\n",
    "\n",
    "fef_celular_component.columns = ['GO', 'Ref list', 'Sample list', 'Expected', 'Over/under',\n",
    "                                 'Fold Enrichment', 'P-value', 'FDR'\n",
    "                                ]\n",
    "\n",
    "fef_celular_component['color'] = celular_component\n",
    "fef_celular_component = fef_celular_component.sort_values('Fold Enrichment')"
   ]
  },
  {
   "cell_type": "code",
   "execution_count": null,
   "metadata": {},
   "outputs": [],
   "source": [
    "fef_molecular_function = pd.read_csv('panther_fef_mf.txt',\n",
    "                                    sep = '\\t',\n",
    "                                    header = 6\n",
    "                                   )\n",
    "\n",
    "fef_molecular_function.columns = ['GO', 'Ref list', 'Sample list', 'Expected', 'Over/under',\n",
    "                                 'Fold Enrichment', 'P-value', 'FDR'\n",
    "                                ]\n",
    "\n",
    "fef_molecular_function['color'] = molecular_function\n",
    "fef_molecular_function = fef_molecular_function.sort_values('Fold Enrichment')"
   ]
  },
  {
   "cell_type": "code",
   "execution_count": null,
   "metadata": {},
   "outputs": [],
   "source": [
    "fef_go = pd.concat([fef_biological_process,\n",
    "                    fef_celular_component,\n",
    "                    fef_molecular_function\n",
    "                   ],\n",
    "                   ignore_index=True\n",
    "                  )\n",
    "\n",
    "fef_go = fef_go[fef_go['GO'] != 'Unclassified (UNCLASSIFIED)']\n",
    "fef_go['GO_term'] = [go[1].replace(')', '') for go in fef_go.GO.str.split('(').tolist()]"
   ]
  },
  {
   "cell_type": "code",
   "execution_count": null,
   "metadata": {},
   "outputs": [],
   "source": [
    "plt.figure(figsize = image_size)\n",
    "plt.barh(fef_go['GO_term'], fef_go['Fold Enrichment'], color = fef_go['color'])\n",
    "plt.title('Female E/F')\n",
    "plt.xlabel('Fold Enrichment')\n",
    "plt.legend(custom_lines[::-1], legend_labbels[::-1])\n",
    "plt.savefig('plot_fef.png', dpi=600)\n",
    "plt.show()"
   ]
  },
  {
   "cell_type": "markdown",
   "metadata": {},
   "source": [
    "#### Female H\n",
    "\n",
    "List of miRNAs active on the last stage of Females"
   ]
  },
  {
   "cell_type": "code",
   "execution_count": null,
   "metadata": {},
   "outputs": [],
   "source": [
    "with open('mirnas_active_fh.txt', 'w') as file:\n",
    "    file.write(\"\\n\".join(fh_active_mirnas.tolist()).replace('vvi-mir', 'vvi-miR'))"
   ]
  },
  {
   "cell_type": "code",
   "execution_count": null,
   "metadata": {},
   "outputs": [],
   "source": [
    "fh_targets = pd.read_csv('psRNATarget_fh.txt',\n",
    "                         sep = '\\t',\n",
    "                         header = 1\n",
    "                        )\n",
    "\n",
    "fh_targets['gene_name'] = [target.split('.')[0] for target in fh_targets['Target_Acc.'].tolist()]\n",
    "\n",
    "fh_targets = fh_targets[['gene_name']].drop_duplicates()\n",
    "\n",
    "with open('targets_fh.txt', 'w') as file:\n",
    "    file.write(\"\\n\".join(fh_targets['gene_name'].tolist()).replace('VIT_2', 'VIT_'))"
   ]
  },
  {
   "cell_type": "code",
   "execution_count": null,
   "metadata": {},
   "outputs": [],
   "source": [
    "fh_biological_process = pd.read_csv('panther_fh_bp.txt',\n",
    "                                    sep = '\\t',\n",
    "                                    header = 6\n",
    "                                   )\n",
    "\n",
    "fh_biological_process.columns = ['GO', 'Ref list', 'Sample list', 'Expected', 'Over/under',\n",
    "                                 'Fold Enrichment', 'P-value', 'FDR'\n",
    "                                ]\n",
    "\n",
    "fh_biological_process['color'] = biological_process\n",
    "fh_biological_process = fh_biological_process.sort_values('Fold Enrichment')"
   ]
  },
  {
   "cell_type": "code",
   "execution_count": null,
   "metadata": {},
   "outputs": [],
   "source": [
    "fh_celular_component = pd.read_csv('panther_fh_cc.txt',\n",
    "                                    sep = '\\t',\n",
    "                                    header = 6\n",
    "                                   )\n",
    "\n",
    "fh_celular_component.columns = ['GO', 'Ref list', 'Sample list', 'Expected', 'Over/under',\n",
    "                                 'Fold Enrichment', 'P-value', 'FDR'\n",
    "                                ]\n",
    "\n",
    "fh_celular_component['color'] = celular_component\n",
    "fh_celular_component = fh_celular_component.sort_values('Fold Enrichment')"
   ]
  },
  {
   "cell_type": "code",
   "execution_count": null,
   "metadata": {},
   "outputs": [],
   "source": [
    "fh_molecular_function = pd.read_csv('panther_fh_mf.txt',\n",
    "                                    sep = '\\t',\n",
    "                                    header = 6\n",
    "                                   )\n",
    "\n",
    "fh_molecular_function.columns = ['GO', 'Ref list', 'Sample list', 'Expected', 'Over/under',\n",
    "                                 'Fold Enrichment', 'P-value', 'FDR'\n",
    "                                ]\n",
    "\n",
    "fh_molecular_function['color'] = molecular_function\n",
    "fh_molecular_function = fh_molecular_function.sort_values('Fold Enrichment')"
   ]
  },
  {
   "cell_type": "code",
   "execution_count": null,
   "metadata": {},
   "outputs": [],
   "source": [
    "fh_go = pd.concat([fh_biological_process,\n",
    "                   fh_celular_component,\n",
    "                   fh_molecular_function\n",
    "                  ],\n",
    "                  ignore_index=True\n",
    "                 )\n",
    "\n",
    "fh_go = fh_go[fh_go['GO'] != 'Unclassified (UNCLASSIFIED)']\n",
    "fh_go['GO_term'] = [go[1].replace(')', '') for go in fh_go.GO.str.split('(').tolist()]"
   ]
  },
  {
   "cell_type": "code",
   "execution_count": null,
   "metadata": {},
   "outputs": [],
   "source": [
    "plt.figure(figsize = image_size)\n",
    "plt.barh(fh_go['GO_term'], fh_go['Fold Enrichment'], color = fh_go['color'])\n",
    "plt.title('Female H')\n",
    "plt.xlabel('Fold Enrichment')\n",
    "plt.legend(custom_lines[::-1], legend_labbels[::-1])\n",
    "plt.savefig('plot_fh.png', dpi=600)\n",
    "plt.show()"
   ]
  },
  {
   "cell_type": "markdown",
   "metadata": {},
   "source": [
    "### Male\n",
    "\n",
    "([go to top](#miRNA-Sequencing))\n",
    "\n",
    "In this segment we will perform the analysis for the miRNAs that are being expressed (normalized count >= 10) on Male samples."
   ]
  },
  {
   "cell_type": "code",
   "execution_count": null,
   "metadata": {},
   "outputs": [],
   "source": [
    "mb_active_mirnas = mirna[mirna['MB'] > 10].index\n",
    "mef_active_mirnas = mirna[mirna['MEF'] > 10].index\n",
    "mh_active_mirnas = mirna[mirna['MH'] > 10].index\n",
    "\n",
    "print('''\n",
    "    Number of miRNAs on MB: {}\n",
    "    Number of miRNAs on MEF: {}\n",
    "    Number of miRNAs on MH: {}\n",
    "    '''.format(len(mb_active_mirnas), len(mef_active_mirnas), len(mh_active_mirnas)))"
   ]
  },
  {
   "cell_type": "markdown",
   "metadata": {},
   "source": [
    "#### Male B\n",
    "\n",
    "List of miRNAs active on this sample"
   ]
  },
  {
   "cell_type": "code",
   "execution_count": null,
   "metadata": {},
   "outputs": [],
   "source": [
    "with open('mirnas_active_mb.txt', 'w') as file:\n",
    "    file.write(\"\\n\".join(mb_active_mirnas.tolist()).replace('vvi-mir', 'vvi-miR'))"
   ]
  },
  {
   "cell_type": "code",
   "execution_count": null,
   "metadata": {},
   "outputs": [],
   "source": [
    "mb_targets = pd.read_csv('psRNATarget_mb.txt',\n",
    "                         sep = '\\t',\n",
    "                         header = 1\n",
    "                        )\n",
    "\n",
    "mb_targets['gene_name'] = [target.split('.')[0] for target in mb_targets['Target_Acc.'].tolist()]\n",
    "\n",
    "mb_targets = mb_targets[['gene_name']].drop_duplicates()\n",
    "\n",
    "with open('targets_mb.txt', 'w') as file:\n",
    "    file.write(\"\\n\".join(mb_targets['gene_name'].tolist()).replace('VIT_2', 'VIT_'))"
   ]
  },
  {
   "cell_type": "code",
   "execution_count": null,
   "metadata": {},
   "outputs": [],
   "source": [
    "mb_biological_process = pd.read_csv('panther_mb_bp.txt',\n",
    "                                    sep = '\\t',\n",
    "                                    header = 6\n",
    "                                   )\n",
    "\n",
    "mb_biological_process.columns = ['GO', 'Ref list', 'Sample list', 'Expected', 'Over/under',\n",
    "                                 'Fold Enrichment', 'P-value', 'FDR'\n",
    "                                ]\n",
    "\n",
    "mb_biological_process['color'] = biological_process\n",
    "mb_biological_process = mb_biological_process.sort_values('Fold Enrichment')"
   ]
  },
  {
   "cell_type": "code",
   "execution_count": null,
   "metadata": {},
   "outputs": [],
   "source": [
    "mb_celular_component = pd.read_csv('panther_mb_cc.txt',\n",
    "                                    sep = '\\t',\n",
    "                                    header = 6\n",
    "                                   )\n",
    "\n",
    "mb_celular_component.columns = ['GO', 'Ref list', 'Sample list', 'Expected', 'Over/under',\n",
    "                                 'Fold Enrichment', 'P-value', 'FDR'\n",
    "                                ]\n",
    "\n",
    "mb_celular_component['color'] = celular_component\n",
    "mb_celular_component = mb_celular_component.sort_values('Fold Enrichment')"
   ]
  },
  {
   "cell_type": "code",
   "execution_count": null,
   "metadata": {},
   "outputs": [],
   "source": [
    "mb_molecular_function = pd.read_csv('panther_mb_mf.txt',\n",
    "                                    sep = '\\t',\n",
    "                                    header = 6\n",
    "                                   )\n",
    "\n",
    "mb_molecular_function.columns = ['GO', 'Ref list', 'Sample list', 'Expected', 'Over/under',\n",
    "                                 'Fold Enrichment', 'P-value', 'FDR'\n",
    "                                ]\n",
    "\n",
    "mb_molecular_function['color'] = molecular_function\n",
    "mb_molecular_function = mb_molecular_function.sort_values('Fold Enrichment')"
   ]
  },
  {
   "cell_type": "code",
   "execution_count": null,
   "metadata": {},
   "outputs": [],
   "source": [
    "mb_go = pd.concat([mb_biological_process,\n",
    "                   mb_celular_component,\n",
    "                   mb_molecular_function\n",
    "                  ],\n",
    "                  ignore_index=True\n",
    "                 )\n",
    "\n",
    "mb_go = mb_go[mb_go['GO'] != 'Unclassified (UNCLASSIFIED)']\n",
    "mb_go['GO_term'] = [go[1].replace(')', '') for go in mb_go.GO.str.split('(').tolist()]"
   ]
  },
  {
   "cell_type": "code",
   "execution_count": null,
   "metadata": {},
   "outputs": [],
   "source": [
    "plt.figure(figsize = image_size)\n",
    "plt.barh(mb_go['GO_term'], mb_go['Fold Enrichment'], color = mb_go['color'])\n",
    "plt.title('Male B')\n",
    "plt.xlabel('Fold Enrichment')\n",
    "plt.legend(custom_lines[::-1], legend_labbels[::-1])\n",
    "plt.savefig('plot_mb.png', dpi=600)\n",
    "plt.show()"
   ]
  },
  {
   "cell_type": "markdown",
   "metadata": {},
   "source": [
    "#### Male E/F\n",
    "\n",
    "List of miRNAs active on stage E/F from males."
   ]
  },
  {
   "cell_type": "code",
   "execution_count": null,
   "metadata": {},
   "outputs": [],
   "source": [
    "with open('mirnas_active_mef.txt', 'w') as file:\n",
    "    file.write(\"\\n\".join(mef_active_mirnas.tolist()).replace('vvi-mir', 'vvi-miR'))"
   ]
  },
  {
   "cell_type": "code",
   "execution_count": null,
   "metadata": {},
   "outputs": [],
   "source": [
    "mef_targets = pd.read_csv('psRNATarget_mef.txt',\n",
    "                         sep = '\\t',\n",
    "                         header = 1\n",
    "                        )\n",
    "\n",
    "mef_targets['gene_name'] = [target.split('.')[0] for target in mef_targets['Target_Acc.'].tolist()]\n",
    "\n",
    "mef_targets = mef_targets[['gene_name']].drop_duplicates()\n",
    "\n",
    "with open('targets_mef.txt', 'w') as file:\n",
    "    file.write(\"\\n\".join(mef_targets['gene_name'].tolist()).replace('VIT_2', 'VIT_'))"
   ]
  },
  {
   "cell_type": "code",
   "execution_count": null,
   "metadata": {},
   "outputs": [],
   "source": [
    "mef_biological_process = pd.read_csv('panther_mef_bp.txt',\n",
    "                                     sep = '\\t',\n",
    "                                     header = 6\n",
    "                                    )\n",
    "\n",
    "mef_biological_process.columns = ['GO', 'Ref list', 'Sample list', 'Expected', 'Over/under',\n",
    "                                  'Fold Enrichment', 'P-value', 'FDR'\n",
    "                                 ]\n",
    "\n",
    "mef_biological_process['color'] = biological_process\n",
    "mef_biological_process = mef_biological_process.sort_values('Fold Enrichment')"
   ]
  },
  {
   "cell_type": "code",
   "execution_count": null,
   "metadata": {},
   "outputs": [],
   "source": [
    "mef_celular_component = pd.read_csv('panther_mef_cc.txt',\n",
    "                                    sep = '\\t',\n",
    "                                    header = 6\n",
    "                                   )\n",
    "\n",
    "mef_celular_component.columns = ['GO', 'Ref list', 'Sample list', 'Expected', 'Over/under',\n",
    "                                 'Fold Enrichment', 'P-value', 'FDR'\n",
    "                                ]\n",
    "\n",
    "mef_celular_component['color'] = celular_component\n",
    "mef_celular_component = mef_celular_component.sort_values('Fold Enrichment')"
   ]
  },
  {
   "cell_type": "code",
   "execution_count": null,
   "metadata": {},
   "outputs": [],
   "source": [
    "mef_molecular_function = pd.read_csv('panther_mef_mf.txt',\n",
    "                                     sep = '\\t',\n",
    "                                     header = 6\n",
    "                                    )\n",
    "\n",
    "mef_molecular_function.columns = ['GO', 'Ref list', 'Sample list', 'Expected', 'Over/under',\n",
    "                                  'Fold Enrichment', 'P-value', 'FDR'\n",
    "                                 ]\n",
    "\n",
    "mef_molecular_function['color'] = molecular_function\n",
    "mef_molecular_function = mef_molecular_function.sort_values('Fold Enrichment')"
   ]
  },
  {
   "cell_type": "code",
   "execution_count": null,
   "metadata": {},
   "outputs": [],
   "source": [
    "mef_go = pd.concat([mef_biological_process,\n",
    "                    mef_celular_component,\n",
    "                    mef_molecular_function\n",
    "                   ],\n",
    "                   ignore_index=True\n",
    "                  )\n",
    "\n",
    "mef_go = mef_go[mef_go['GO'] != 'Unclassified (UNCLASSIFIED)']\n",
    "mef_go['GO_term'] = [go[1].replace(')', '') for go in mef_go.GO.str.split('(').tolist()]"
   ]
  },
  {
   "cell_type": "code",
   "execution_count": null,
   "metadata": {},
   "outputs": [],
   "source": [
    "plt.figure(figsize = image_size)\n",
    "plt.barh(mef_go['GO_term'], mef_go['Fold Enrichment'], color = mef_go['color'])\n",
    "plt.title('Male E/F')\n",
    "plt.xlabel('Fold Enrichment')\n",
    "plt.legend(custom_lines[::-1], legend_labbels[::-1])\n",
    "plt.savefig('plot_mef.png', dpi=600)\n",
    "plt.show()"
   ]
  },
  {
   "cell_type": "markdown",
   "metadata": {},
   "source": [
    "#### Male H\n",
    "\n",
    "List of miRNAs active on the last stage of males"
   ]
  },
  {
   "cell_type": "code",
   "execution_count": null,
   "metadata": {},
   "outputs": [],
   "source": [
    "with open('mirnas_active_mh.txt', 'w') as file:\n",
    "    file.write(\"\\n\".join(mh_active_mirnas.tolist()).replace('vvi-mir', 'vvi-miR'))"
   ]
  },
  {
   "cell_type": "code",
   "execution_count": null,
   "metadata": {},
   "outputs": [],
   "source": [
    "mh_targets = pd.read_csv('psRNATarget_mh.txt',\n",
    "                         sep = '\\t',\n",
    "                         header = 1\n",
    "                        )\n",
    "\n",
    "mh_targets['gene_name'] = [target.split('.')[0] for target in mh_targets['Target_Acc.'].tolist()]\n",
    "\n",
    "mh_targets = mh_targets[['gene_name']].drop_duplicates()\n",
    "\n",
    "with open('targets_mh.txt', 'w') as file:\n",
    "    file.write(\"\\n\".join(mh_targets['gene_name'].tolist()).replace('VIT_2', 'VIT_'))"
   ]
  },
  {
   "cell_type": "code",
   "execution_count": null,
   "metadata": {},
   "outputs": [],
   "source": [
    "mh_biological_process = pd.read_csv('panther_mh_bp.txt',\n",
    "                                    sep = '\\t',\n",
    "                                    header = 6\n",
    "                                   )\n",
    "\n",
    "mh_biological_process.columns = ['GO', 'Ref list', 'Sample list', 'Expected', 'Over/under',\n",
    "                                 'Fold Enrichment', 'P-value', 'FDR'\n",
    "                                ]\n",
    "\n",
    "mh_biological_process['color'] = biological_process\n",
    "mh_biological_process = mh_biological_process.sort_values('Fold Enrichment')"
   ]
  },
  {
   "cell_type": "code",
   "execution_count": null,
   "metadata": {},
   "outputs": [],
   "source": [
    "mh_celular_component = pd.read_csv('panther_mh_cc.txt',\n",
    "                                    sep = '\\t',\n",
    "                                    header = 6\n",
    "                                   )\n",
    "\n",
    "mh_celular_component.columns = ['GO', 'Ref list', 'Sample list', 'Expected', 'Over/under',\n",
    "                                 'Fold Enrichment', 'P-value', 'FDR'\n",
    "                                ]\n",
    "\n",
    "mh_celular_component['color'] = celular_component\n",
    "mh_celular_component = mh_celular_component.sort_values('Fold Enrichment')"
   ]
  },
  {
   "cell_type": "code",
   "execution_count": null,
   "metadata": {},
   "outputs": [],
   "source": [
    "mh_molecular_function = pd.read_csv('panther_mh_mf.txt',\n",
    "                                    sep = '\\t',\n",
    "                                    header = 6\n",
    "                                   )\n",
    "\n",
    "mh_molecular_function.columns = ['GO', 'Ref list', 'Sample list', 'Expected', 'Over/under',\n",
    "                                 'Fold Enrichment', 'P-value', 'FDR'\n",
    "                                ]\n",
    "\n",
    "mh_molecular_function['color'] = molecular_function\n",
    "mh_molecular_function = mh_molecular_function.sort_values('Fold Enrichment')"
   ]
  },
  {
   "cell_type": "code",
   "execution_count": null,
   "metadata": {},
   "outputs": [],
   "source": [
    "mh_go = pd.concat([mh_biological_process,\n",
    "                   mh_celular_component,\n",
    "                   mh_molecular_function\n",
    "                  ],\n",
    "                  ignore_index=True\n",
    "                 )\n",
    "\n",
    "mh_go = mh_go[mh_go['GO'] != 'Unclassified (UNCLASSIFIED)']\n",
    "mh_go['GO_term'] = [go[1].replace(')', '') for go in mh_go.GO.str.split('(').tolist()]"
   ]
  },
  {
   "cell_type": "code",
   "execution_count": null,
   "metadata": {},
   "outputs": [],
   "source": [
    "plt.figure(figsize = image_size)\n",
    "plt.barh(mh_go['GO_term'], mh_go['Fold Enrichment'], color = mh_go['color'])\n",
    "plt.title('Male H')\n",
    "plt.xlabel('Fold Enrichment')\n",
    "plt.legend(custom_lines[::-1], legend_labbels[::-1])\n",
    "plt.savefig('plot_mh.png', dpi=600)\n",
    "plt.show()"
   ]
  },
  {
   "cell_type": "markdown",
   "metadata": {},
   "source": [
    "### Hermaphrodite\n",
    "\n",
    "([go to top](#miRNA-Sequencing))\n",
    "\n",
    "In this segment we will perform the analysis for the miRNAs that are being expressed (normalized count >= 10) on Hermaphrodite (Touriga Nacional - TN) samples."
   ]
  },
  {
   "cell_type": "code",
   "execution_count": null,
   "metadata": {},
   "outputs": [],
   "source": [
    "tnb_active_mirnas = mirna[mirna['TNB'] > 10].index\n",
    "tnef_active_mirnas = mirna[mirna['TNEF'] > 10].index\n",
    "tnh_active_mirnas = mirna[mirna['TNH'] > 10].index\n",
    "\n",
    "print('''\n",
    "    Number of miRNAs on TNB: {}\n",
    "    Number of miRNAs on TNEF: {}\n",
    "    Number of miRNAs on TNH: {}\n",
    "    '''.format(len(tnb_active_mirnas), len(tnef_active_mirnas), len(tnh_active_mirnas)))"
   ]
  },
  {
   "cell_type": "markdown",
   "metadata": {},
   "source": [
    "#### TN B\n",
    "\n",
    "List of miRNAs active on this sample"
   ]
  },
  {
   "cell_type": "code",
   "execution_count": null,
   "metadata": {},
   "outputs": [],
   "source": [
    "with open('mirnas_active_tnb.txt', 'w') as file:\n",
    "    file.write(\"\\n\".join(tnb_active_mirnas.tolist()).replace('vvi-mir', 'vvi-miR'))"
   ]
  },
  {
   "cell_type": "code",
   "execution_count": null,
   "metadata": {},
   "outputs": [],
   "source": [
    "tnb_targets = pd.read_csv('psRNATarget_tnb.txt',\n",
    "                          sep = '\\t',\n",
    "                          header = 1\n",
    "                         )\n",
    "\n",
    "tnb_targets['gene_name'] = [target.split('.')[0] for target in tnb_targets['Target_Acc.'].tolist()]\n",
    "\n",
    "tnb_targets = tnb_targets[['gene_name']].drop_duplicates()\n",
    "\n",
    "with open('targets_tnb.txt', 'w') as file:\n",
    "    file.write(\"\\n\".join(tnb_targets['gene_name'].tolist()).replace('VIT_2', 'VIT_'))"
   ]
  },
  {
   "cell_type": "code",
   "execution_count": null,
   "metadata": {},
   "outputs": [],
   "source": [
    "tnb_biological_process = pd.read_csv('panther_tnb_bp.txt',\n",
    "                                     sep = '\\t',\n",
    "                                     header = 6\n",
    "                                    )\n",
    "\n",
    "tnb_biological_process.columns = ['GO', 'Ref list', 'Sample list', 'Expected', 'Over/under',\n",
    "                                  'Fold Enrichment', 'P-value', 'FDR'\n",
    "                                 ]\n",
    "\n",
    "tnb_biological_process['color'] = biological_process\n",
    "tnb_biological_process = tnb_biological_process.sort_values('Fold Enrichment')"
   ]
  },
  {
   "cell_type": "code",
   "execution_count": null,
   "metadata": {},
   "outputs": [],
   "source": [
    "tnb_celular_component = pd.read_csv('panther_tnb_cc.txt',\n",
    "                                    sep = '\\t',\n",
    "                                    header = 6\n",
    "                                   )\n",
    "\n",
    "tnb_celular_component.columns = ['GO', 'Ref list', 'Sample list', 'Expected', 'Over/under',\n",
    "                                 'Fold Enrichment', 'P-value', 'FDR'\n",
    "                                ]\n",
    "\n",
    "tnb_celular_component['color'] = celular_component\n",
    "tnb_celular_component = tnb_celular_component.sort_values('Fold Enrichment')"
   ]
  },
  {
   "cell_type": "code",
   "execution_count": null,
   "metadata": {},
   "outputs": [],
   "source": [
    "tnb_molecular_function = pd.read_csv('panther_tnb_mf.txt',\n",
    "                                     sep = '\\t',\n",
    "                                     header = 6\n",
    "                                    )\n",
    "\n",
    "tnb_molecular_function.columns = ['GO', 'Ref list', 'Sample list', 'Expected', 'Over/under',\n",
    "                                 'Fold Enrichment', 'P-value', 'FDR'\n",
    "                                ]\n",
    "\n",
    "tnb_molecular_function['color'] = molecular_function\n",
    "tnb_molecular_function = tnb_molecular_function.sort_values('Fold Enrichment')"
   ]
  },
  {
   "cell_type": "code",
   "execution_count": null,
   "metadata": {},
   "outputs": [],
   "source": [
    "tnb_go = pd.concat([tnb_biological_process,\n",
    "                    tnb_celular_component,\n",
    "                    tnb_molecular_function\n",
    "                   ],\n",
    "                   ignore_index=True\n",
    "                  )\n",
    "\n",
    "tnb_go = tnb_go[tnb_go['GO'] != 'Unclassified (UNCLASSIFIED)']\n",
    "tnb_go['GO_term'] = [go[1].replace(')', '') for go in tnb_go.GO.str.split('(').tolist()]"
   ]
  },
  {
   "cell_type": "code",
   "execution_count": null,
   "metadata": {},
   "outputs": [],
   "source": [
    "plt.figure(figsize = image_size)\n",
    "plt.barh(tnb_go['GO_term'], tnb_go['Fold Enrichment'], color = tnb_go['color'])\n",
    "plt.title('Hermaphrodite B')\n",
    "plt.xlabel('Fold Enrichment')\n",
    "plt.legend(custom_lines[::-1], legend_labbels[::-1])\n",
    "plt.savefig('plot_tnb.png', dpi=600)\n",
    "plt.show()"
   ]
  },
  {
   "cell_type": "markdown",
   "metadata": {},
   "source": [
    "#### TN E/F\n",
    "\n",
    "List of miRNAs active on stage E/F from hermaphrodites."
   ]
  },
  {
   "cell_type": "code",
   "execution_count": null,
   "metadata": {},
   "outputs": [],
   "source": [
    "with open('mirnas_active_tnef.txt', 'w') as file:\n",
    "    file.write(\"\\n\".join(tnef_active_mirnas.tolist()).replace('vvi-mir', 'vvi-miR'))"
   ]
  },
  {
   "cell_type": "code",
   "execution_count": null,
   "metadata": {},
   "outputs": [],
   "source": [
    "tnef_targets = pd.read_csv('psRNATarget_tnef.txt',\n",
    "                           sep = '\\t',\n",
    "                           header = 1\n",
    "                          )\n",
    "\n",
    "tnef_targets['gene_name'] = [target.split('.')[0] for target in tnef_targets['Target_Acc.'].tolist()]\n",
    "\n",
    "tnef_targets = tnef_targets[['gene_name']].drop_duplicates()\n",
    "\n",
    "with open('targets_tnef.txt', 'w') as file:\n",
    "    file.write(\"\\n\".join(tnef_targets['gene_name'].tolist()).replace('VIT_2', 'VIT_'))"
   ]
  },
  {
   "cell_type": "code",
   "execution_count": null,
   "metadata": {},
   "outputs": [],
   "source": [
    "tnef_biological_process = pd.read_csv('panther_tnef_bp.txt',\n",
    "                                      sep = '\\t',\n",
    "                                      header = 6\n",
    "                                     )\n",
    "\n",
    "tnef_biological_process.columns = ['GO', 'Ref list', 'Sample list', 'Expected', 'Over/under',\n",
    "                                   'Fold Enrichment', 'P-value', 'FDR'\n",
    "                                  ]\n",
    "\n",
    "tnef_biological_process['color'] = biological_process\n",
    "tnef_biological_process = tnef_biological_process.sort_values('Fold Enrichment')"
   ]
  },
  {
   "cell_type": "code",
   "execution_count": null,
   "metadata": {},
   "outputs": [],
   "source": [
    "tnef_celular_component = pd.read_csv('panther_tnef_cc.txt',\n",
    "                                     sep = '\\t',\n",
    "                                     header = 6\n",
    "                                    )\n",
    "\n",
    "tnef_celular_component.columns = ['GO', 'Ref list', 'Sample list', 'Expected', 'Over/under',\n",
    "                                  'Fold Enrichment', 'P-value', 'FDR'\n",
    "                                 ]\n",
    "\n",
    "tnef_celular_component['color'] = celular_component\n",
    "tnef_celular_component = tnef_celular_component.sort_values('Fold Enrichment')"
   ]
  },
  {
   "cell_type": "code",
   "execution_count": null,
   "metadata": {},
   "outputs": [],
   "source": [
    "tnef_molecular_function = pd.read_csv('panther_tnef_mf.txt',\n",
    "                                      sep = '\\t',\n",
    "                                      header = 6\n",
    "                                     )\n",
    "\n",
    "tnef_molecular_function.columns = ['GO', 'Ref list', 'Sample list', 'Expected', 'Over/under',\n",
    "                                   'Fold Enrichment', 'P-value', 'FDR'\n",
    "                                  ]\n",
    "\n",
    "tnef_molecular_function['color'] = molecular_function\n",
    "tnef_molecular_function = tnef_molecular_function.sort_values('Fold Enrichment')"
   ]
  },
  {
   "cell_type": "code",
   "execution_count": null,
   "metadata": {},
   "outputs": [],
   "source": [
    "tnef_go = pd.concat([tnef_biological_process,\n",
    "                     tnef_celular_component,\n",
    "                     tnef_molecular_function\n",
    "                    ],\n",
    "                    ignore_index=True\n",
    "                   )\n",
    "\n",
    "tnef_go = tnef_go[tnef_go['GO'] != 'Unclassified (UNCLASSIFIED)']\n",
    "tnef_go['GO_term'] = [go[1].replace(')', '') for go in tnef_go.GO.str.split('(').tolist()]"
   ]
  },
  {
   "cell_type": "code",
   "execution_count": null,
   "metadata": {},
   "outputs": [],
   "source": [
    "plt.figure(figsize = image_size)\n",
    "plt.barh(tnef_go['GO_term'], tnef_go['Fold Enrichment'], color = tnef_go['color'])\n",
    "plt.title('Hermaphrodite E/F')\n",
    "plt.xlabel('Fold Enrichment')\n",
    "plt.legend(custom_lines[::-1], legend_labbels[::-1])\n",
    "plt.savefig('plot_tnef.png', dpi=600)\n",
    "plt.show()"
   ]
  },
  {
   "cell_type": "markdown",
   "metadata": {},
   "source": [
    "#### TN H\n",
    "\n",
    "List of miRNAs active on the last stage of hermaphrodites"
   ]
  },
  {
   "cell_type": "code",
   "execution_count": null,
   "metadata": {},
   "outputs": [],
   "source": [
    "with open('mirnas_active_tnh.txt', 'w') as file:\n",
    "    file.write(\"\\n\".join(tnh_active_mirnas.tolist()).replace('vvi-mir', 'vvi-miR'))"
   ]
  },
  {
   "cell_type": "code",
   "execution_count": null,
   "metadata": {},
   "outputs": [],
   "source": [
    "tnh_targets = pd.read_csv('psRNATarget_tnh.txt',\n",
    "                          sep = '\\t',\n",
    "                          header = 1\n",
    "                         )\n",
    "\n",
    "tnh_targets['gene_name'] = [target.split('.')[0] for target in tnh_targets['Target_Acc.'].tolist()]\n",
    "\n",
    "tnh_targets = tnh_targets[['gene_name']].drop_duplicates()\n",
    "\n",
    "with open('targets_tnh.txt', 'w') as file:\n",
    "    file.write(\"\\n\".join(tnh_targets['gene_name'].tolist()).replace('VIT_2', 'VIT_'))"
   ]
  },
  {
   "cell_type": "code",
   "execution_count": null,
   "metadata": {},
   "outputs": [],
   "source": [
    "tnh_biological_process = pd.read_csv('panther_tnh_bp.txt',\n",
    "                                     sep = '\\t',\n",
    "                                     header = 6\n",
    "                                    )\n",
    "\n",
    "tnh_biological_process.columns = ['GO', 'Ref list', 'Sample list', 'Expected', 'Over/under',\n",
    "                                  'Fold Enrichment', 'P-value', 'FDR'\n",
    "                                 ]\n",
    "\n",
    "tnh_biological_process['color'] = biological_process\n",
    "tnh_biological_process = tnh_biological_process.sort_values('Fold Enrichment')"
   ]
  },
  {
   "cell_type": "code",
   "execution_count": null,
   "metadata": {},
   "outputs": [],
   "source": [
    "tnh_celular_component = pd.read_csv('panther_tnh_cc.txt',\n",
    "                                    sep = '\\t',\n",
    "                                    header = 6\n",
    "                                   )\n",
    "\n",
    "tnh_celular_component.columns = ['GO', 'Ref list', 'Sample list', 'Expected', 'Over/under',\n",
    "                                 'Fold Enrichment', 'P-value', 'FDR'\n",
    "                                ]\n",
    "\n",
    "tnh_celular_component['color'] = celular_component\n",
    "tnh_celular_component = tnh_celular_component.sort_values('Fold Enrichment')"
   ]
  },
  {
   "cell_type": "code",
   "execution_count": null,
   "metadata": {},
   "outputs": [],
   "source": [
    "tnh_molecular_function = pd.read_csv('panther_tnh_mf.txt',\n",
    "                                     sep = '\\t',\n",
    "                                     header = 6\n",
    "                                    )\n",
    "\n",
    "tnh_molecular_function.columns = ['GO', 'Ref list', 'Sample list', 'Expected', 'Over/under',\n",
    "                                 'Fold Enrichment', 'P-value', 'FDR'\n",
    "                                ]\n",
    "\n",
    "tnh_molecular_function['color'] = molecular_function\n",
    "tnh_molecular_function = tnh_molecular_function.sort_values('Fold Enrichment')"
   ]
  },
  {
   "cell_type": "code",
   "execution_count": null,
   "metadata": {},
   "outputs": [],
   "source": [
    "tnh_go = pd.concat([tnh_biological_process,\n",
    "                    tnh_celular_component,\n",
    "                    tnh_molecular_function\n",
    "                   ],\n",
    "                   ignore_index=True\n",
    "                  )\n",
    "\n",
    "tnh_go = tnh_go[tnh_go['GO'] != 'Unclassified (UNCLASSIFIED)']\n",
    "tnh_go['GO_term'] = [go[1].replace(')', '') for go in tnh_go.GO.str.split('(').tolist()]"
   ]
  },
  {
   "cell_type": "code",
   "execution_count": null,
   "metadata": {},
   "outputs": [],
   "source": [
    "plt.figure(figsize = image_size)\n",
    "plt.barh(tnh_go['GO_term'], tnh_go['Fold Enrichment'], color = tnh_go['color'])\n",
    "plt.title('Hermaphrodite H')\n",
    "plt.xlabel('Fold Enrichment')\n",
    "plt.legend(custom_lines[::-1], legend_labbels[::-1])\n",
    "plt.savefig('plot_tnh.png', dpi=600)\n",
    "plt.show()"
   ]
  },
  {
   "cell_type": "markdown",
   "metadata": {},
   "source": [
    "## GO TERMS TABLE"
   ]
  },
  {
   "cell_type": "code",
   "execution_count": null,
   "metadata": {},
   "outputs": [],
   "source": [
    "# list all gos\n",
    "go_list = []\n",
    "go_list = go_list + [go[1].replace(')', '') for go in fb_go.GO.str.split('(').tolist()]\n",
    "go_list = go_list + [go[1].replace(')', '') for go in fef_go.GO.str.split('(').tolist()]\n",
    "go_list = go_list + [go[1].replace(')', '') for go in fh_go.GO.str.split('(').tolist()]\n",
    "\n",
    "go_list = go_list + [go[1].replace(')', '') for go in mb_go.GO.str.split('(').tolist()]\n",
    "go_list = go_list + [go[1].replace(')', '') for go in mef_go.GO.str.split('(').tolist()]\n",
    "go_list = go_list + [go[1].replace(')', '') for go in mh_go.GO.str.split('(').tolist()]\n",
    "\n",
    "go_list = go_list + [go[1].replace(')', '') for go in tnb_go.GO.str.split('(').tolist()]\n",
    "go_list = go_list + [go[1].replace(')', '') for go in tnef_go.GO.str.split('(').tolist()]\n",
    "go_list = go_list + [go[1].replace(')', '') for go in tnh_go.GO.str.split('(').tolist()]\n",
    "\n",
    "go_list = list(set(go_list))\n",
    "go_list.sort()\n",
    "go_list"
   ]
  },
  {
   "cell_type": "code",
   "execution_count": null,
   "metadata": {},
   "outputs": [],
   "source": [
    "import requests\n",
    "from multiprocessing import Pool\n",
    "import time"
   ]
  },
  {
   "cell_type": "code",
   "execution_count": null,
   "metadata": {},
   "outputs": [],
   "source": [
    "start_time = time.time()\n",
    "go_table = []\n",
    "for go in go_list:\n",
    "    results = requests.get(f'https://www.ebi.ac.uk/QuickGO/services/ontology/go/terms/{go}')\n",
    "    go_info = results.json()\n",
    "    go_table.append([go, go_info['results'][0]['name'].capitalize(), go_info['results'][0]['aspect']])\n",
    "elapsed_time = time.time() - start_time\n",
    "print(elapsed_time)"
   ]
  },
  {
   "cell_type": "code",
   "execution_count": null,
   "metadata": {},
   "outputs": [],
   "source": [
    "go_table"
   ]
  },
  {
   "cell_type": "code",
   "execution_count": null,
   "metadata": {},
   "outputs": [],
   "source": [
    "start_time = time.time()\n",
    "\n",
    "def gogo(go):\n",
    "    results = requests.get(f'https://www.ebi.ac.uk/QuickGO/services/ontology/go/terms/{go}')\n",
    "    go_info = results.json()\n",
    "    return [go, go_info['results'][0]['name'].capitalize(), go_info['results'][0]['aspect'].replace('_', ' ').capitalize()]\n",
    "\n",
    "pool = Pool()\n",
    "go_table = list(pool.map(gogo, go_list))\n",
    "\n",
    "elapsed_time = time.time() - start_time\n",
    "print(elapsed_time)"
   ]
  },
  {
   "cell_type": "code",
   "execution_count": null,
   "metadata": {},
   "outputs": [],
   "source": [
    "go_table"
   ]
  },
  {
   "cell_type": "code",
   "execution_count": null,
   "metadata": {},
   "outputs": [],
   "source": [
    "go_df = pd.DataFrame(\n",
    "    go_table,\n",
    "    columns =['GO', 'Name', 'Aspect']\n",
    ")\n",
    "go_df"
   ]
  },
  {
   "cell_type": "code",
   "execution_count": null,
   "metadata": {},
   "outputs": [],
   "source": [
    "go_df = go_df.sort_values(['Aspect', 'GO'])\n",
    "go_df"
   ]
  },
  {
   "cell_type": "code",
   "execution_count": null,
   "metadata": {},
   "outputs": [],
   "source": [
    "go_df.to_csv(\n",
    "    'go_table.csv',\n",
    "    sep = '\\t',\n",
    "    index = None\n",
    ")"
   ]
  }
 ],
 "metadata": {
  "kernelspec": {
   "display_name": "Python 3",
   "language": "python",
   "name": "python3"
  },
  "language_info": {
   "codemirror_mode": {
    "name": "ipython",
    "version": 3
   },
   "file_extension": ".py",
   "mimetype": "text/x-python",
   "name": "python",
   "nbconvert_exporter": "python",
   "pygments_lexer": "ipython3",
   "version": "3.6.9"
  }
 },
 "nbformat": 4,
 "nbformat_minor": 4
}
