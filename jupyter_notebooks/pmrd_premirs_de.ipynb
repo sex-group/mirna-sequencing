{
 "cells": [
  {
   "cell_type": "markdown",
   "metadata": {},
   "source": [
    "# Analysing PMRD Premirs for differential expressed\n",
    "\n",
    "Starting by loading the required libraries."
   ]
  },
  {
   "cell_type": "code",
   "execution_count": null,
   "metadata": {},
   "outputs": [],
   "source": [
    "%pylab inline\n",
    "import pandas"
   ]
  },
  {
   "cell_type": "markdown",
   "metadata": {},
   "source": [
    "Loading input table"
   ]
  },
  {
   "cell_type": "code",
   "execution_count": null,
   "metadata": {
    "scrolled": true
   },
   "outputs": [],
   "source": [
    "original_dataset = pandas.read_csv(\"pmrd_premirs_diffexpression.tsv\",\n",
    "                                   sep = \"\\t\",\n",
    "                                   header = 0)\n",
    "\n",
    "original_dataset.columns = [\"miRNA\", \"accession\",\n",
    "                            \"sample_1_name\", \"sample_2_name\",\n",
    "                            \"sample_1_mean\", \"sample_2_mean\",\n",
    "                            \"log2_fold_change\",\n",
    "                            \"pvalue\", \"padj\", \"significant\"]\n",
    "\n",
    "original_dataset[\"abs(log2_fold_change)\"] = pandas.Series(abs(original_dataset[\"log2_fold_change\"]))\n",
    "\n",
    "original_dataset.head(10)"
   ]
  },
  {
   "cell_type": "markdown",
   "metadata": {},
   "source": [
    "Get a list of the miRNAs with most absolute log2FoldChante."
   ]
  },
  {
   "cell_type": "code",
   "execution_count": null,
   "metadata": {},
   "outputs": [],
   "source": [
    "miRNAs_with_differential_expression = set(original_dataset.loc[original_dataset[\"abs(log2_fold_change)\"] >= 2][\"miRNA\"])\n",
    "\n",
    "print(\"There are {} miRNAs with differential expression (abs(log2(foldchange)) >= 2):\".format(len(miRNAs_with_differential_expression)))\n",
    "print(sorted(miRNAs_with_differential_expression))"
   ]
  },
  {
   "cell_type": "code",
   "execution_count": null,
   "metadata": {},
   "outputs": [],
   "source": []
  }
 ],
 "metadata": {
  "kernelspec": {
   "display_name": "Python 3",
   "language": "python",
   "name": "python3"
  },
  "language_info": {
   "codemirror_mode": {
    "name": "ipython",
    "version": 3
   },
   "file_extension": ".py",
   "mimetype": "text/x-python",
   "name": "python",
   "nbconvert_exporter": "python",
   "pygments_lexer": "ipython3",
   "version": "3.6.9"
  }
 },
 "nbformat": 4,
 "nbformat_minor": 4
}
