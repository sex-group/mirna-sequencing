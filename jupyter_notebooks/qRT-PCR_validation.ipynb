{
 "cells": [
  {
   "cell_type": "markdown",
   "metadata": {},
   "source": [
    "# miRNA-Seq\n",
    "\n",
    "## Validation by Real-Time PCR\n",
    "\n",
    "On this experiment, I have tested the amplification of a set of miRNAS (detailed below) on [Female EF sample (RNA 50)](qRT-PCR_optimizations.ipynb).\n",
    "\n",
    "### List of miRNAs\n",
    "* vvi-mir156(d) (positive control, see below)\n",
    "* vvi-mir160(d) (may not work, see below)\n",
    "* vvi-mir168\n",
    "* vvi-mir172(b)\n",
    "* vii-mir828(a) (may not work, see below)\n",
    "\n",
    "#### Notes\n",
    "* vvi-mir156(d) was used as positive control, as this primer already amplified [previously](qRT-PCR_optimizations.ipynb). Also, I wanted to test the consequences of duplicating the Evagreen quantity, so this test will evaluate that.\n",
    "\n",
    "* vvi-mir160(b) and vvi-mir828(a) may not work as these miRNAs are not expected to be present in this sample.\n",
    "\n",
    "* Test was performed in duplicates.\n",
    "\n",
    "* Primer R was Oligo(dT).\n",
    "\n",
    "\n",
    "### Protocol\n",
    "\n",
    "| Component | 1X (µL) | 11X (µL) |\n",
    "| :-------- |-------: | -------: |\n",
    "| Evagreen  |    10.0 |    110.0 |\n",
    "| cDNA      |     0.5 |      5.5 |\n",
    "| Primer F  |     0.5 |      --- |\n",
    "| Primer R  |     0.5 |      5.5 |\n",
    "| H20       |     8.5 |     93.5 |\n",
    "\n",
    "\n",
    "### Plate Setup\n",
    "\n",
    "* B2-3: vvi-mir168\n",
    "* B4-5: vvi-mir172\n",
    "* C2-3: vvi-mir160 (?)\n",
    "* C4-5: vvi-mir828\n",
    "* D2-3: vvi-mir156 (?)"
   ]
  },
  {
   "cell_type": "markdown",
   "metadata": {},
   "source": [
    "### Loading required modules"
   ]
  },
  {
   "cell_type": "code",
   "execution_count": null,
   "metadata": {},
   "outputs": [],
   "source": [
    "%matplotlib inline\n",
    "import pandas as pd\n",
    "import matplotlib.pyplot as plt\n",
    "\n",
    "path = '20/'"
   ]
  },
  {
   "cell_type": "markdown",
   "metadata": {},
   "source": [
    "### Preparing data"
   ]
  },
  {
   "cell_type": "code",
   "execution_count": null,
   "metadata": {},
   "outputs": [],
   "source": [
    "columns = {\n",
    "    'Well/Cycles': 'cycle',\n",
    "    \n",
    "    'B02': 'mir168_r1', 'B03': 'mir168_r2',\n",
    "    'B04': 'mir172_r1', 'B05': 'mir172_r2',\n",
    "        \n",
    "    'C02': 'mir160_r1', 'C03': 'mir160_r2',\n",
    "    'C04': 'mir828_r1', 'C05': 'mir828_r2',\n",
    "    \n",
    "    'D02': 'mir156_r1', 'D03': 'mir156_r2'\n",
    "}"
   ]
  },
  {
   "cell_type": "markdown",
   "metadata": {},
   "source": [
    "### Open amplification file"
   ]
  },
  {
   "cell_type": "code",
   "execution_count": null,
   "metadata": {},
   "outputs": [],
   "source": [
    "amplification = pd.read_csv(f'{path}amplification_data_rfu.tsv',\n",
    "                            sep = '\\t',\n",
    "                            header = 0,\n",
    "                            index_col = 0\n",
    "                           )\n",
    "\n",
    "amplification = amplification.rename(columns = columns)\n",
    "amplification.head()"
   ]
  },
  {
   "cell_type": "markdown",
   "metadata": {},
   "source": [
    "### Verifing amplification curves"
   ]
  },
  {
   "cell_type": "code",
   "execution_count": null,
   "metadata": {},
   "outputs": [],
   "source": [
    "columns_list = list(columns.values())\n",
    "\n",
    "# The first item will be cycle, with is not relevant\n",
    "columns_list.pop(0)\n",
    "\n",
    "# Remove reaction number\n",
    "columns_list = list(map(lambda x: x.rsplit('_', 1)[0], columns_list))\n",
    "\n",
    "# Remove the duplicates\n",
    "columns_list = list(set(columns_list))\n",
    "\n",
    "# Plot the amplifications\n",
    "for sample in columns_list:\n",
    "    amplification[[sample + '_r1', sample + '_r2']].plot()"
   ]
  },
  {
   "cell_type": "markdown",
   "metadata": {},
   "source": [
    "### Considerations on amplification\n",
    "\n",
    "The amplifications are not exactly as expected from miRNA-Seq:\n",
    "* vvi-mir156 had amplification on only one of the reactions. Both should had work (success: 1/2)\n",
    "* vvi-mir160 was not expected to express, and no expression was found (success: 2/2 | 3/4)\n",
    "* vvi-mir168 was expected to express, but no expression was found (success: 0/2 | 3/6)\n",
    "* vvi-mir172 was expected to express and in fact, it express (success: 2/2 | 5/8)\n",
    "* vvi-mir828 is a negative control, but we find expression in one reaction (success: 1/2 | 6/9)"
   ]
  },
  {
   "cell_type": "markdown",
   "metadata": {},
   "source": [
    "### Opening melting file"
   ]
  },
  {
   "cell_type": "code",
   "execution_count": null,
   "metadata": {},
   "outputs": [],
   "source": [
    "melting = pd.read_csv(f'{path}melting_data_rfu.tsv',\n",
    "                      sep = '\\t',\n",
    "                      header = 0,\n",
    "                      index_col = 0\n",
    "                     )\n",
    "\n",
    "melting = melting.rename(columns = columns)\n",
    "melting.head()"
   ]
  },
  {
   "cell_type": "markdown",
   "metadata": {},
   "source": [
    "#### Calculating the melting derivate\n",
    "\n",
    "The melting derivate will be calculated according to the formula:\n",
    "`-delta(RFU) / delta(temperature)`\n",
    "\n",
    "On this case, the difference in temperature is always 0.5 as that was the parameters set on the experiment."
   ]
  },
  {
   "cell_type": "code",
   "execution_count": null,
   "metadata": {},
   "outputs": [],
   "source": [
    "def derivate_melting(values):\n",
    "    delta_value = []\n",
    "    for i in range(1, len(values)):\n",
    "        j = i - 1\n",
    "        delta_value.append(values[i] - values[j])\n",
    "    \n",
    "    derivate = list(map(lambda x: -x/0.5, delta_value))\n",
    "    return(derivate)"
   ]
  },
  {
   "cell_type": "code",
   "execution_count": null,
   "metadata": {},
   "outputs": [],
   "source": [
    "for sample in columns_list:\n",
    "    derivate_1 = derivate_melting(melting[sample + '_r1'].values.tolist())\n",
    "    plt.plot(derivate_1)\n",
    "    \n",
    "    derivate_2 = derivate_melting(melting[sample + '_r2'].values.tolist())    \n",
    "    plt.plot(derivate_2)\n",
    "    \n",
    "    plt.title(sample)\n",
    "    \n",
    "    plt.show()"
   ]
  },
  {
   "cell_type": "markdown",
   "metadata": {},
   "source": [
    "### Considerations on melting curve\n",
    "\n",
    "All primers have specific amplifications"
   ]
  },
  {
   "cell_type": "markdown",
   "metadata": {},
   "source": [
    "### Global conclusions\n",
    "\n",
    "I have made a mistaken, by choosing RNA50. **I should have chosen RNA5**, which was the RNA sample that was diluted 1/5. I need to repeat this RT-qPCR to confirm the amplifications.\n",
    "\n",
    "Nevertheless, there may exists problems in the primers for mir168 and mir828.\n",
    "\n",
    "I am still not convinced by the mir156: It does not make sense to amplify on only one reaction (the same was verified [previously](qRT-PCR_optimizations.ipynb)).\n",
    "\n",
    "The usage of 10 µL of evagreen was a good call. I will keep it."
   ]
  }
 ],
 "metadata": {
  "kernelspec": {
   "display_name": "Python 3",
   "language": "python",
   "name": "python3"
  },
  "language_info": {
   "codemirror_mode": {
    "name": "ipython",
    "version": 3
   },
   "file_extension": ".py",
   "mimetype": "text/x-python",
   "name": "python",
   "nbconvert_exporter": "python",
   "pygments_lexer": "ipython3",
   "version": "3.6.9"
  }
 },
 "nbformat": 4,
 "nbformat_minor": 4
}
