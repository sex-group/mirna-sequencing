{
 "cells": [
  {
   "cell_type": "markdown",
   "metadata": {},
   "source": [
    "# miRNA-Seq\n",
    "\n",
    "## Validation by Real-Time PCR\n",
    "\n",
    "On this experiment, I have tested the amplification of vvi-mir156(d) on Female E/F sample, using multiple quantities on cDNA synthesis and on the qRT-PCR."
   ]
  },
  {
   "cell_type": "markdown",
   "metadata": {},
   "source": [
    "### Loading required modules"
   ]
  },
  {
   "cell_type": "code",
   "execution_count": null,
   "metadata": {},
   "outputs": [],
   "source": [
    "%matplotlib inline\n",
    "import pandas as pd\n",
    "import matplotlib.pyplot as plt"
   ]
  },
  {
   "cell_type": "markdown",
   "metadata": {},
   "source": [
    "### Preparing data\n",
    "\n",
    "Reactions in the plate were set as...\n",
    "\n",
    "* Columns 01, 02, 03 and 04: 5.0 µL of cDNA were loaded into the Real-Time (l5)\n",
    "* Columns 05, 06, 07 and 08: 1.0 µL of cDNA were loaded into the Real-Time (l1)\n",
    "* Columns 09, 10, 11 and 12: 0.5 µL of cDNA were loaded into the Real-Time (l0)\n",
    "\n",
    "\n",
    "* Line A: cDNA was synthesized with Female E/F 1st elution, diluted to 1/5 (rna5)\n",
    "* Line B: cDNA was synthesized with Female E/F 1st elution, diluted to 1/50 (rna50)\n",
    "* Line C: cDNA was synthesized with Female E/F 1st elution, diluted to 1/100 (rna100)\n",
    "* Line D: cDNA was synthesized with Female E/F 1st elution, diluted to 1/500 (rna500)\n",
    "* Line E: cDNA was synthesized with Female E/F 1st elution, diluted to 1/1000 (rna1000)\n",
    "\n",
    "\n",
    "* Columns 01/02, 05/06 and 09/10: cDNA without amplification by TaqMan (raw)\n",
    "* Columns 03/04, 07/08 and 11/12: cDNA after amplification/enrichment by TaqMan (amp)\n",
    "\n",
    "* Duplicates are on the same line, in subsequent columns (eg. A01 = A02) (r1 / r2)\n",
    "\n",
    "\n",
    "\n",
    "As **all samples are Female E/F 1st elution**, that information will not be used on the reactions names! The same applies to the gene used: **all reactions use vvi-miR156** with primers vvi-mir156F + oligo(dT)."
   ]
  },
  {
   "cell_type": "code",
   "execution_count": null,
   "metadata": {},
   "outputs": [],
   "source": [
    "columns = {\n",
    "    'Well/Cycles': 'cycle',\n",
    "    \n",
    "    'A01': 'l5_rna5_raw_r1', 'A02': 'l5_rna5_raw_r2',\n",
    "    'A03': 'l5_rna5_amp_r1', 'A04': 'l5_rna5_amp_r2',\n",
    "    'A05': 'l1_rna5_raw_r1', 'A06': 'l1_rna5_raw_r2',\n",
    "    'A07': 'l1_rna5_amp_r1', 'A08': 'l1_rna5_amp_r2',\n",
    "    'A09': 'l0_rna5_raw_r1', 'A10': 'l0_rna5_raw_r2',\n",
    "    'A11': 'l0_rna5_amp_r1', 'A12': 'l0_rna5_amp_r2',\n",
    "    \n",
    "    'B01': 'l5_rna50_raw_r1', 'B02': 'l5_rna50_raw_r2',\n",
    "    'B03': 'l5_rna50_amp_r1', 'B04': 'l5_rna50_amp_r2',\n",
    "    'B05': 'l1_rna50_raw_r1', 'B06': 'l1_rna50_raw_r2',\n",
    "    'B07': 'l1_rna50_amp_r1', 'B08': 'l1_rna50_amp_r2',\n",
    "    'B09': 'l0_rna50_raw_r1', 'B10': 'l0_rna50_raw_r2',\n",
    "    'B11': 'l0_rna50_amp_r1', 'B12': 'l0_rna50_amp_r2',\n",
    "    \n",
    "    'C01': 'l5_rna100_raw_r1', 'C02': 'l5_rna100_raw_r2',\n",
    "    'C03': 'l5_rna100_amp_r1', 'C04': 'l5_rna100_amp_r2',\n",
    "    'C05': 'l1_rna100_raw_r1', 'C06': 'l1_rna100_raw_r2',\n",
    "    'C07': 'l1_rna100_amp_r1', 'C08': 'l1_rna100_amp_r2',\n",
    "    'C09': 'l0_rna100_raw_r1', 'C10': 'l0_rna100_raw_r2',\n",
    "    'C11': 'l0_rna100_amp_r1', 'C12': 'l0_rna100_amp_r2',\n",
    "    \n",
    "    'D01': 'l5_rna500_raw_r1', 'D02': 'l5_rna500_raw_r2',\n",
    "    'D03': 'l5_rna500_amp_r1', 'D04': 'l5_rna500_amp_r2',\n",
    "    'D05': 'l1_rna500_raw_r1', 'D06': 'l1_rna500_raw_r2',\n",
    "    'D07': 'l1_rna500_amp_r1', 'D08': 'l1_rna500_amp_r2',\n",
    "    'D09': 'l0_rna500_raw_r1', 'D10': 'l0_rna500_raw_r2',\n",
    "    'D11': 'l0_rna500_amp_r1', 'D12': 'l0_rna500_amp_r2',\n",
    "    \n",
    "    'E01': 'l5_rna1000_raw_r1', 'E02': 'l5_rna1000_raw_r2',\n",
    "    'E03': 'l5_rna1000_amp_r1', 'E04': 'l5_rna1000_amp_r2',\n",
    "    'E05': 'l1_rna1000_raw_r1', 'E06': 'l1_rna1000_raw_r2',\n",
    "    'E07': 'l1_rna1000_amp_r1', 'E08': 'l1_rna1000_amp_r2',\n",
    "    'E09': 'l0_rna1000_raw_r1', 'E10': 'l0_rna1000_raw_r2',\n",
    "    'E11': 'l0_rna1000_amp_r1', 'E12': 'l0_rna1000_amp_r2'\n",
    "}"
   ]
  },
  {
   "cell_type": "markdown",
   "metadata": {},
   "source": [
    "### Opening file"
   ]
  },
  {
   "cell_type": "code",
   "execution_count": null,
   "metadata": {},
   "outputs": [],
   "source": [
    "rfu = pd.read_csv('amplification_data_rfu.tsv',\n",
    "                  sep = '\\t',\n",
    "                  header = 0,\n",
    "                  index_col = 0\n",
    "                 )\n",
    "\n",
    "rfu = rfu.rename(columns = columns)\n",
    "rfu.head()"
   ]
  },
  {
   "cell_type": "markdown",
   "metadata": {},
   "source": [
    "### Plotting amplification curves by group\n",
    "\n",
    "Considering the duplicates, we will now draw plots for each experiment, with duplicates in the same plot."
   ]
  },
  {
   "cell_type": "code",
   "execution_count": null,
   "metadata": {},
   "outputs": [],
   "source": [
    "columns_list = list(columns.values())\n",
    "\n",
    "# The first item will be cycle, with is not relevant\n",
    "columns_list.pop(0)\n",
    "\n",
    "columns_list = list(map(lambda x: x.rsplit('_', 1)[0], columns_list))\n",
    "\n",
    "# Remove the duplicates\n",
    "columns_list = list(set(columns_list))\n",
    "columns_list\n",
    "\n",
    "for sample in columns_list:\n",
    "    rfu[[sample + '_r1', sample + '_r2']].plot()"
   ]
  },
  {
   "cell_type": "markdown",
   "metadata": {},
   "source": [
    "### Considerations\n",
    "\n",
    "Regarding the amplifications detected, these are the most relevant amplifications:\n",
    "\n",
    "* l1_rna5_amp\n",
    "* l1_rna50_amp\n",
    "* l0_rna5_amp\n",
    "* l0_rna50_amp\n",
    "\n",
    "I will, to simplify, load these plots again:"
   ]
  },
  {
   "cell_type": "code",
   "execution_count": null,
   "metadata": {},
   "outputs": [],
   "source": [
    "most_significant = [\n",
    "    'l1_rna5_amp',\n",
    "    'l1_rna50_amp',\n",
    "    'l0_rna5_amp',\n",
    "    'l0_rna50_amp'\n",
    "]\n",
    "\n",
    "for sample in most_significant:\n",
    "    rfu[[sample + '_r1', sample + '_r2']].plot()"
   ]
  },
  {
   "cell_type": "markdown",
   "metadata": {},
   "source": [
    "In both cases, the rna5 load (where the RNA used on the cDNA synthesis was diluted to 1/5), show better results than the 50 (dilution to 1/50). \n",
    "\n",
    "In fact, the l1 (where 1 µL of cDNA was loaded into the Real-Time) have a Ct more lower than the l0 (where 0.5 µL of cDNA was loaded), which corresponds to more quantity.\n",
    "\n",
    "We may conclude, that the amplification by the TaqMan kit, is relevant, as the raw amplifications are too bad to be even considered."
   ]
  },
  {
   "cell_type": "markdown",
   "metadata": {},
   "source": [
    "### Observing melting curves"
   ]
  },
  {
   "cell_type": "code",
   "execution_count": null,
   "metadata": {},
   "outputs": [],
   "source": [
    "melting = pd.read_csv('melting_data_rfu.tsv',\n",
    "                      sep = '\\t',\n",
    "                      header = 0,\n",
    "                      index_col = 0\n",
    "                     )\n",
    "\n",
    "melting = melting.rename(columns = columns)\n",
    "melting.head()"
   ]
  },
  {
   "cell_type": "markdown",
   "metadata": {},
   "source": [
    "#### Calculating the melting derivate\n",
    "\n",
    "The melting derivate will be calculated according to the formula:\n",
    "-delta(RFU) / delta(temperature)\n",
    "\n",
    "On this case, the difference in temperature is always 0.5 as that was the parameters set on the experiment.\n",
    "\n",
    "We will compute the derivatives only to the selected samples (please, see `most_significant` list, is required)"
   ]
  },
  {
   "cell_type": "code",
   "execution_count": null,
   "metadata": {},
   "outputs": [],
   "source": [
    "def derivate_melting(values):\n",
    "    delta_value = []\n",
    "    for i in range(1, len(values)):\n",
    "        j = i - 1\n",
    "        delta_value.append(values[i] - values[j])\n",
    "    \n",
    "    derivate = list(map(lambda x: -x/0.5, delta_value))\n",
    "    return(derivate)"
   ]
  },
  {
   "cell_type": "code",
   "execution_count": null,
   "metadata": {},
   "outputs": [],
   "source": [
    "for sample in columns_list:\n",
    "    derivate_1 = derivate_melting(melting[sample + '_r1'].values.tolist())\n",
    "    plt.plot(derivate_1)\n",
    "    \n",
    "    derivate_2 = derivate_melting(melting[sample + '_r2'].values.tolist())    \n",
    "    plt.plot(derivate_2)\n",
    "    \n",
    "    plt.title(sample)\n",
    "    \n",
    "    plt.show()"
   ]
  },
  {
   "cell_type": "markdown",
   "metadata": {},
   "source": [
    "### Considerations on the melting curve\n",
    "\n",
    "Again, the results using the 1/5 dilution are betters than the 1/500 on the cDNA synthesis. When 1 µL of cDNA is loaded, we have a more unspecific reaction. The second amplification in l0_rna5_amp is too short to cause any kind of problems.\n",
    "\n",
    "## Main conclusion\n",
    "\n",
    "The best conditions are:\n",
    "\n",
    "* Use first elution of RNA on cDNA synthesis, diluted 1/5.\n",
    "* Do the cDNA synthesis as recommended by the manufacturer, including the final amplification/enrichment.\n",
    "* Load 0.5 µL of cDNA to the Real-Time reaction."
   ]
  }
 ],
 "metadata": {
  "kernelspec": {
   "display_name": "Python 3",
   "language": "python",
   "name": "python3"
  },
  "language_info": {
   "codemirror_mode": {
    "name": "ipython",
    "version": 3
   },
   "file_extension": ".py",
   "mimetype": "text/x-python",
   "name": "python",
   "nbconvert_exporter": "python",
   "pygments_lexer": "ipython3",
   "version": "3.6.9"
  }
 },
 "nbformat": 4,
 "nbformat_minor": 4
}
